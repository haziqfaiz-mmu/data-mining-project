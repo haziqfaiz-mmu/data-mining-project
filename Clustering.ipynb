{
 "cells": [
  {
   "cell_type": "code",
   "execution_count": 32,
   "id": "8956db9c",
   "metadata": {},
   "outputs": [],
   "source": [
    "import pandas as pd\n",
    "import numpy as np\n",
    "from collections import Counter\n",
    "\n",
    "from imblearn.over_sampling import SMOTE\n",
    "import scipy.stats as stats\n",
    "from datetime import datetime \n",
    "from sklearn import preprocessing\n",
    "from sklearn.linear_model import LinearRegression\n",
    "from sklearn.feature_selection import RFECV\n",
    "from sklearn.feature_selection import RFE\n",
    "from sklearn.model_selection import train_test_split\n",
    "import scipy.stats as stats\n",
    "\n",
    "from sklearn.metrics import confusion_matrix\n",
    "from sklearn.metrics import accuracy_score, precision_score, recall_score, f1_score\n",
    "from sklearn.model_selection import cross_val_score\n",
    "\n",
    "from sklearn.metrics import roc_curve\n",
    "from sklearn.metrics import roc_auc_score\n",
    "from sklearn.metrics import precision_recall_curve\n",
    "from sklearn.preprocessing import MinMaxScaler\n",
    "from sklearn.linear_model import Ridge\n",
    "from sklearn.linear_model import Lasso\n",
    "from sklearn.linear_model import LogisticRegression\n",
    "\n",
    "from sklearn.model_selection import RepeatedStratifiedKFold\n",
    "from sklearn.pipeline import Pipeline\n",
    "import matplotlib.pyplot as plt\n",
    "from sklearn.model_selection import GridSearchCV\n",
    "\n",
    "from imblearn.over_sampling import RandomOverSampler\n",
    "from imblearn.under_sampling import RandomUnderSampler"
   ]
  },
  {
   "cell_type": "code",
   "execution_count": 33,
   "id": "478ddf05",
   "metadata": {},
   "outputs": [
    {
     "data": {
      "text/html": [
       "<div>\n",
       "<style scoped>\n",
       "    .dataframe tbody tr th:only-of-type {\n",
       "        vertical-align: middle;\n",
       "    }\n",
       "\n",
       "    .dataframe tbody tr th {\n",
       "        vertical-align: top;\n",
       "    }\n",
       "\n",
       "    .dataframe thead th {\n",
       "        text-align: right;\n",
       "    }\n",
       "</style>\n",
       "<table border=\"1\" class=\"dataframe\">\n",
       "  <thead>\n",
       "    <tr style=\"text-align: right;\">\n",
       "      <th></th>\n",
       "      <th>Time</th>\n",
       "      <th>Race</th>\n",
       "      <th>Gender</th>\n",
       "      <th>Body_Size</th>\n",
       "      <th>With_Kids</th>\n",
       "      <th>Kids_Category</th>\n",
       "      <th>Basket_Size</th>\n",
       "      <th>Basket_colour</th>\n",
       "      <th>Attire</th>\n",
       "      <th>Shirt_Colour</th>\n",
       "      <th>...</th>\n",
       "      <th>buyDrinks</th>\n",
       "      <th>TotalSpent_RM</th>\n",
       "      <th>latitude</th>\n",
       "      <th>longitude</th>\n",
       "      <th>Num_of_Baskets</th>\n",
       "      <th>tempmax</th>\n",
       "      <th>tempmin</th>\n",
       "      <th>humidity</th>\n",
       "      <th>description</th>\n",
       "      <th>icon</th>\n",
       "    </tr>\n",
       "  </thead>\n",
       "  <tbody>\n",
       "    <tr>\n",
       "      <th>0</th>\n",
       "      <td>20</td>\n",
       "      <td>malay</td>\n",
       "      <td>male</td>\n",
       "      <td>moderate</td>\n",
       "      <td>yes</td>\n",
       "      <td>young</td>\n",
       "      <td>big</td>\n",
       "      <td>red</td>\n",
       "      <td>casual</td>\n",
       "      <td>blue</td>\n",
       "      <td>...</td>\n",
       "      <td>-0.306655</td>\n",
       "      <td>-1.175289</td>\n",
       "      <td>-1.974354</td>\n",
       "      <td>0.219731</td>\n",
       "      <td>-1.24844</td>\n",
       "      <td>-0.804993</td>\n",
       "      <td>0.954235</td>\n",
       "      <td>0.51219</td>\n",
       "      <td>Cloudy skies throughout the day.</td>\n",
       "      <td>cloudy</td>\n",
       "    </tr>\n",
       "    <tr>\n",
       "      <th>1</th>\n",
       "      <td>20</td>\n",
       "      <td>chinese</td>\n",
       "      <td>male</td>\n",
       "      <td>thin</td>\n",
       "      <td>no</td>\n",
       "      <td>no_kids</td>\n",
       "      <td>big</td>\n",
       "      <td>green</td>\n",
       "      <td>casual</td>\n",
       "      <td>white</td>\n",
       "      <td>...</td>\n",
       "      <td>0.873818</td>\n",
       "      <td>1.620044</td>\n",
       "      <td>-1.844641</td>\n",
       "      <td>0.072282</td>\n",
       "      <td>1.25697</td>\n",
       "      <td>-0.804993</td>\n",
       "      <td>0.954235</td>\n",
       "      <td>0.51219</td>\n",
       "      <td>Cloudy skies throughout the day.</td>\n",
       "      <td>cloudy</td>\n",
       "    </tr>\n",
       "    <tr>\n",
       "      <th>2</th>\n",
       "      <td>20</td>\n",
       "      <td>malay</td>\n",
       "      <td>female</td>\n",
       "      <td>moderate</td>\n",
       "      <td>no</td>\n",
       "      <td>no_kids</td>\n",
       "      <td>big</td>\n",
       "      <td>blue</td>\n",
       "      <td>casual</td>\n",
       "      <td>red</td>\n",
       "      <td>...</td>\n",
       "      <td>-0.306655</td>\n",
       "      <td>-0.243511</td>\n",
       "      <td>-1.678802</td>\n",
       "      <td>1.008022</td>\n",
       "      <td>-1.24844</td>\n",
       "      <td>-0.804993</td>\n",
       "      <td>0.954235</td>\n",
       "      <td>0.51219</td>\n",
       "      <td>Cloudy skies throughout the day.</td>\n",
       "      <td>cloudy</td>\n",
       "    </tr>\n",
       "    <tr>\n",
       "      <th>3</th>\n",
       "      <td>21</td>\n",
       "      <td>indian</td>\n",
       "      <td>male</td>\n",
       "      <td>thin</td>\n",
       "      <td>no</td>\n",
       "      <td>no_kids</td>\n",
       "      <td>big</td>\n",
       "      <td>black</td>\n",
       "      <td>casual</td>\n",
       "      <td>black</td>\n",
       "      <td>...</td>\n",
       "      <td>-0.306655</td>\n",
       "      <td>0.455322</td>\n",
       "      <td>-1.495611</td>\n",
       "      <td>0.011978</td>\n",
       "      <td>-1.24844</td>\n",
       "      <td>-0.804993</td>\n",
       "      <td>0.954235</td>\n",
       "      <td>0.51219</td>\n",
       "      <td>Cloudy skies throughout the day.</td>\n",
       "      <td>cloudy</td>\n",
       "    </tr>\n",
       "    <tr>\n",
       "      <th>4</th>\n",
       "      <td>21</td>\n",
       "      <td>indian</td>\n",
       "      <td>male</td>\n",
       "      <td>moderate</td>\n",
       "      <td>no</td>\n",
       "      <td>no_kids</td>\n",
       "      <td>big</td>\n",
       "      <td>blue</td>\n",
       "      <td>casual</td>\n",
       "      <td>blue</td>\n",
       "      <td>...</td>\n",
       "      <td>-0.896892</td>\n",
       "      <td>-0.243511</td>\n",
       "      <td>-2.086209</td>\n",
       "      <td>0.252582</td>\n",
       "      <td>1.25697</td>\n",
       "      <td>-0.804993</td>\n",
       "      <td>0.954235</td>\n",
       "      <td>0.51219</td>\n",
       "      <td>Cloudy skies throughout the day.</td>\n",
       "      <td>cloudy</td>\n",
       "    </tr>\n",
       "  </tbody>\n",
       "</table>\n",
       "<p>5 rows × 29 columns</p>\n",
       "</div>"
      ],
      "text/plain": [
       "   Time     Race  Gender Body_Size With_Kids Kids_Category Basket_Size  \\\n",
       "0    20    malay    male  moderate       yes         young         big   \n",
       "1    20  chinese    male      thin        no       no_kids         big   \n",
       "2    20    malay  female  moderate        no       no_kids         big   \n",
       "3    21   indian    male      thin        no       no_kids         big   \n",
       "4    21   indian    male  moderate        no       no_kids         big   \n",
       "\n",
       "  Basket_colour  Attire Shirt_Colour  ... buyDrinks TotalSpent_RM  latitude  \\\n",
       "0           red  casual         blue  ... -0.306655     -1.175289 -1.974354   \n",
       "1         green  casual        white  ...  0.873818      1.620044 -1.844641   \n",
       "2          blue  casual          red  ... -0.306655     -0.243511 -1.678802   \n",
       "3         black  casual        black  ... -0.306655      0.455322 -1.495611   \n",
       "4          blue  casual         blue  ... -0.896892     -0.243511 -2.086209   \n",
       "\n",
       "  longitude Num_of_Baskets   tempmax   tempmin  humidity  \\\n",
       "0  0.219731       -1.24844 -0.804993  0.954235   0.51219   \n",
       "1  0.072282        1.25697 -0.804993  0.954235   0.51219   \n",
       "2  1.008022       -1.24844 -0.804993  0.954235   0.51219   \n",
       "3  0.011978       -1.24844 -0.804993  0.954235   0.51219   \n",
       "4  0.252582        1.25697 -0.804993  0.954235   0.51219   \n",
       "\n",
       "                        description    icon  \n",
       "0  Cloudy skies throughout the day.  cloudy  \n",
       "1  Cloudy skies throughout the day.  cloudy  \n",
       "2  Cloudy skies throughout the day.  cloudy  \n",
       "3  Cloudy skies throughout the day.  cloudy  \n",
       "4  Cloudy skies throughout the day.  cloudy  \n",
       "\n",
       "[5 rows x 29 columns]"
      ]
     },
     "execution_count": 33,
     "metadata": {},
     "output_type": "execute_result"
    }
   ],
   "source": [
    "df = pd.read_csv(\"merged-normalized.csv\")\n",
    "df = df.drop([\"Date\"],axis=1)\n",
    "df[\"Time\"]=pd.to_datetime(df[\"Time\"], format='%H:%M:%S').dt.hour\n",
    "#df[\"Time\"] = stats.zscore(df[\"Time\"])\n",
    "df.head()"
   ]
  },
  {
   "cell_type": "code",
   "execution_count": 34,
   "id": "5c9803bf",
   "metadata": {},
   "outputs": [],
   "source": [
    "X = df.drop([\"icon\"],axis=1)\n",
    "y = df[\"icon\"]\n",
    "colnames = X.columns"
   ]
  },
  {
   "cell_type": "code",
   "execution_count": 35,
   "id": "13253778",
   "metadata": {},
   "outputs": [
    {
     "data": {
      "text/html": [
       "<div>\n",
       "<style scoped>\n",
       "    .dataframe tbody tr th:only-of-type {\n",
       "        vertical-align: middle;\n",
       "    }\n",
       "\n",
       "    .dataframe tbody tr th {\n",
       "        vertical-align: top;\n",
       "    }\n",
       "\n",
       "    .dataframe thead th {\n",
       "        text-align: right;\n",
       "    }\n",
       "</style>\n",
       "<table border=\"1\" class=\"dataframe\">\n",
       "  <thead>\n",
       "    <tr style=\"text-align: right;\">\n",
       "      <th></th>\n",
       "      <th>Time</th>\n",
       "      <th>Race</th>\n",
       "      <th>Gender</th>\n",
       "      <th>Body_Size</th>\n",
       "      <th>With_Kids</th>\n",
       "      <th>Kids_Category</th>\n",
       "      <th>Basket_Size</th>\n",
       "      <th>Basket_colour</th>\n",
       "      <th>Attire</th>\n",
       "      <th>Shirt_Colour</th>\n",
       "      <th>...</th>\n",
       "      <th>TimeSpent_minutes</th>\n",
       "      <th>buyDrinks</th>\n",
       "      <th>TotalSpent_RM</th>\n",
       "      <th>latitude</th>\n",
       "      <th>longitude</th>\n",
       "      <th>Num_of_Baskets</th>\n",
       "      <th>tempmax</th>\n",
       "      <th>tempmin</th>\n",
       "      <th>humidity</th>\n",
       "      <th>description</th>\n",
       "    </tr>\n",
       "  </thead>\n",
       "  <tbody>\n",
       "    <tr>\n",
       "      <th>0</th>\n",
       "      <td>20</td>\n",
       "      <td>3</td>\n",
       "      <td>1</td>\n",
       "      <td>1</td>\n",
       "      <td>1</td>\n",
       "      <td>3</td>\n",
       "      <td>0</td>\n",
       "      <td>8</td>\n",
       "      <td>0</td>\n",
       "      <td>1</td>\n",
       "      <td>...</td>\n",
       "      <td>-1.095669</td>\n",
       "      <td>-0.306655</td>\n",
       "      <td>-1.175289</td>\n",
       "      <td>-1.974354</td>\n",
       "      <td>0.219731</td>\n",
       "      <td>-1.24844</td>\n",
       "      <td>-0.804993</td>\n",
       "      <td>0.954235</td>\n",
       "      <td>0.51219</td>\n",
       "      <td>3</td>\n",
       "    </tr>\n",
       "    <tr>\n",
       "      <th>1</th>\n",
       "      <td>20</td>\n",
       "      <td>0</td>\n",
       "      <td>1</td>\n",
       "      <td>2</td>\n",
       "      <td>0</td>\n",
       "      <td>1</td>\n",
       "      <td>0</td>\n",
       "      <td>3</td>\n",
       "      <td>0</td>\n",
       "      <td>9</td>\n",
       "      <td>...</td>\n",
       "      <td>-1.165587</td>\n",
       "      <td>0.873818</td>\n",
       "      <td>1.620044</td>\n",
       "      <td>-1.844641</td>\n",
       "      <td>0.072282</td>\n",
       "      <td>1.25697</td>\n",
       "      <td>-0.804993</td>\n",
       "      <td>0.954235</td>\n",
       "      <td>0.51219</td>\n",
       "      <td>3</td>\n",
       "    </tr>\n",
       "    <tr>\n",
       "      <th>2</th>\n",
       "      <td>20</td>\n",
       "      <td>3</td>\n",
       "      <td>0</td>\n",
       "      <td>1</td>\n",
       "      <td>0</td>\n",
       "      <td>1</td>\n",
       "      <td>0</td>\n",
       "      <td>1</td>\n",
       "      <td>0</td>\n",
       "      <td>8</td>\n",
       "      <td>...</td>\n",
       "      <td>-1.235504</td>\n",
       "      <td>-0.306655</td>\n",
       "      <td>-0.243511</td>\n",
       "      <td>-1.678802</td>\n",
       "      <td>1.008022</td>\n",
       "      <td>-1.24844</td>\n",
       "      <td>-0.804993</td>\n",
       "      <td>0.954235</td>\n",
       "      <td>0.51219</td>\n",
       "      <td>3</td>\n",
       "    </tr>\n",
       "    <tr>\n",
       "      <th>3</th>\n",
       "      <td>21</td>\n",
       "      <td>2</td>\n",
       "      <td>1</td>\n",
       "      <td>2</td>\n",
       "      <td>0</td>\n",
       "      <td>1</td>\n",
       "      <td>0</td>\n",
       "      <td>0</td>\n",
       "      <td>0</td>\n",
       "      <td>0</td>\n",
       "      <td>...</td>\n",
       "      <td>-1.585093</td>\n",
       "      <td>-0.306655</td>\n",
       "      <td>0.455322</td>\n",
       "      <td>-1.495611</td>\n",
       "      <td>0.011978</td>\n",
       "      <td>-1.24844</td>\n",
       "      <td>-0.804993</td>\n",
       "      <td>0.954235</td>\n",
       "      <td>0.51219</td>\n",
       "      <td>3</td>\n",
       "    </tr>\n",
       "    <tr>\n",
       "      <th>4</th>\n",
       "      <td>21</td>\n",
       "      <td>2</td>\n",
       "      <td>1</td>\n",
       "      <td>1</td>\n",
       "      <td>0</td>\n",
       "      <td>1</td>\n",
       "      <td>0</td>\n",
       "      <td>1</td>\n",
       "      <td>0</td>\n",
       "      <td>1</td>\n",
       "      <td>...</td>\n",
       "      <td>-1.445258</td>\n",
       "      <td>-0.896892</td>\n",
       "      <td>-0.243511</td>\n",
       "      <td>-2.086209</td>\n",
       "      <td>0.252582</td>\n",
       "      <td>1.25697</td>\n",
       "      <td>-0.804993</td>\n",
       "      <td>0.954235</td>\n",
       "      <td>0.51219</td>\n",
       "      <td>3</td>\n",
       "    </tr>\n",
       "  </tbody>\n",
       "</table>\n",
       "<p>5 rows × 28 columns</p>\n",
       "</div>"
      ],
      "text/plain": [
       "   Time  Race  Gender  Body_Size  With_Kids  Kids_Category  Basket_Size  \\\n",
       "0    20     3       1          1          1              3            0   \n",
       "1    20     0       1          2          0              1            0   \n",
       "2    20     3       0          1          0              1            0   \n",
       "3    21     2       1          2          0              1            0   \n",
       "4    21     2       1          1          0              1            0   \n",
       "\n",
       "   Basket_colour  Attire  Shirt_Colour  ...  TimeSpent_minutes  buyDrinks  \\\n",
       "0              8       0             1  ...          -1.095669  -0.306655   \n",
       "1              3       0             9  ...          -1.165587   0.873818   \n",
       "2              1       0             8  ...          -1.235504  -0.306655   \n",
       "3              0       0             0  ...          -1.585093  -0.306655   \n",
       "4              1       0             1  ...          -1.445258  -0.896892   \n",
       "\n",
       "   TotalSpent_RM  latitude  longitude  Num_of_Baskets   tempmax   tempmin  \\\n",
       "0      -1.175289 -1.974354   0.219731        -1.24844 -0.804993  0.954235   \n",
       "1       1.620044 -1.844641   0.072282         1.25697 -0.804993  0.954235   \n",
       "2      -0.243511 -1.678802   1.008022        -1.24844 -0.804993  0.954235   \n",
       "3       0.455322 -1.495611   0.011978        -1.24844 -0.804993  0.954235   \n",
       "4      -0.243511 -2.086209   0.252582         1.25697 -0.804993  0.954235   \n",
       "\n",
       "   humidity  description  \n",
       "0   0.51219            3  \n",
       "1   0.51219            3  \n",
       "2   0.51219            3  \n",
       "3   0.51219            3  \n",
       "4   0.51219            3  \n",
       "\n",
       "[5 rows x 28 columns]"
      ]
     },
     "execution_count": 35,
     "metadata": {},
     "output_type": "execute_result"
    }
   ],
   "source": [
    "#Label encode\n",
    "label_encoder = preprocessing.LabelEncoder()\n",
    "for col in X:\n",
    "    if X[col].dtype == \"object\" and col!=\"icon\":\n",
    "        X[col]=label_encoder.fit_transform(X[col])\n",
    "X.head()"
   ]
  },
  {
   "cell_type": "code",
   "execution_count": 36,
   "id": "774c4efa",
   "metadata": {},
   "outputs": [
    {
     "data": {
      "text/html": [
       "<div>\n",
       "<style scoped>\n",
       "    .dataframe tbody tr th:only-of-type {\n",
       "        vertical-align: middle;\n",
       "    }\n",
       "\n",
       "    .dataframe tbody tr th {\n",
       "        vertical-align: top;\n",
       "    }\n",
       "\n",
       "    .dataframe thead th {\n",
       "        text-align: right;\n",
       "    }\n",
       "</style>\n",
       "<table border=\"1\" class=\"dataframe\">\n",
       "  <thead>\n",
       "    <tr style=\"text-align: right;\">\n",
       "      <th></th>\n",
       "      <th>Time</th>\n",
       "      <th>Race</th>\n",
       "      <th>Gender</th>\n",
       "      <th>Body_Size</th>\n",
       "      <th>With_Kids</th>\n",
       "      <th>Kids_Category</th>\n",
       "      <th>Basket_Size</th>\n",
       "      <th>Basket_colour</th>\n",
       "      <th>Attire</th>\n",
       "      <th>Shirt_Colour</th>\n",
       "      <th>...</th>\n",
       "      <th>TimeSpent_minutes</th>\n",
       "      <th>buyDrinks</th>\n",
       "      <th>TotalSpent_RM</th>\n",
       "      <th>latitude</th>\n",
       "      <th>longitude</th>\n",
       "      <th>Num_of_Baskets</th>\n",
       "      <th>tempmax</th>\n",
       "      <th>tempmin</th>\n",
       "      <th>humidity</th>\n",
       "      <th>description</th>\n",
       "    </tr>\n",
       "  </thead>\n",
       "  <tbody>\n",
       "    <tr>\n",
       "      <th>0</th>\n",
       "      <td>1.186818</td>\n",
       "      <td>1.281672</td>\n",
       "      <td>1.015622</td>\n",
       "      <td>0.007998</td>\n",
       "      <td>1.111704</td>\n",
       "      <td>1.509148</td>\n",
       "      <td>-0.855775</td>\n",
       "      <td>0.877381</td>\n",
       "      <td>-1.075186</td>\n",
       "      <td>-1.081452</td>\n",
       "      <td>...</td>\n",
       "      <td>-1.095669</td>\n",
       "      <td>-0.306655</td>\n",
       "      <td>-1.175289</td>\n",
       "      <td>-1.974354</td>\n",
       "      <td>0.219731</td>\n",
       "      <td>-1.24844</td>\n",
       "      <td>-0.729131</td>\n",
       "      <td>1.755352</td>\n",
       "      <td>0.320483</td>\n",
       "      <td>-1.616516</td>\n",
       "    </tr>\n",
       "    <tr>\n",
       "      <th>1</th>\n",
       "      <td>1.186818</td>\n",
       "      <td>-1.356417</td>\n",
       "      <td>1.015622</td>\n",
       "      <td>1.238486</td>\n",
       "      <td>-0.899520</td>\n",
       "      <td>-0.543765</td>\n",
       "      <td>-0.855775</td>\n",
       "      <td>-0.652490</td>\n",
       "      <td>-1.075186</td>\n",
       "      <td>1.265385</td>\n",
       "      <td>...</td>\n",
       "      <td>-1.165587</td>\n",
       "      <td>0.873818</td>\n",
       "      <td>1.620044</td>\n",
       "      <td>-1.844641</td>\n",
       "      <td>0.072282</td>\n",
       "      <td>1.25697</td>\n",
       "      <td>-0.729131</td>\n",
       "      <td>1.755352</td>\n",
       "      <td>0.320483</td>\n",
       "      <td>-1.616516</td>\n",
       "    </tr>\n",
       "    <tr>\n",
       "      <th>2</th>\n",
       "      <td>1.186818</td>\n",
       "      <td>1.281672</td>\n",
       "      <td>-0.984618</td>\n",
       "      <td>0.007998</td>\n",
       "      <td>-0.899520</td>\n",
       "      <td>-0.543765</td>\n",
       "      <td>-0.855775</td>\n",
       "      <td>-1.264439</td>\n",
       "      <td>-1.075186</td>\n",
       "      <td>0.972030</td>\n",
       "      <td>...</td>\n",
       "      <td>-1.235504</td>\n",
       "      <td>-0.306655</td>\n",
       "      <td>-0.243511</td>\n",
       "      <td>-1.678802</td>\n",
       "      <td>1.008022</td>\n",
       "      <td>-1.24844</td>\n",
       "      <td>-0.729131</td>\n",
       "      <td>1.755352</td>\n",
       "      <td>0.320483</td>\n",
       "      <td>-1.616516</td>\n",
       "    </tr>\n",
       "    <tr>\n",
       "      <th>3</th>\n",
       "      <td>1.330305</td>\n",
       "      <td>0.402309</td>\n",
       "      <td>1.015622</td>\n",
       "      <td>1.238486</td>\n",
       "      <td>-0.899520</td>\n",
       "      <td>-0.543765</td>\n",
       "      <td>-0.855775</td>\n",
       "      <td>-1.570413</td>\n",
       "      <td>-1.075186</td>\n",
       "      <td>-1.374806</td>\n",
       "      <td>...</td>\n",
       "      <td>-1.585093</td>\n",
       "      <td>-0.306655</td>\n",
       "      <td>0.455322</td>\n",
       "      <td>-1.495611</td>\n",
       "      <td>0.011978</td>\n",
       "      <td>-1.24844</td>\n",
       "      <td>-0.729131</td>\n",
       "      <td>1.755352</td>\n",
       "      <td>0.320483</td>\n",
       "      <td>-1.616516</td>\n",
       "    </tr>\n",
       "    <tr>\n",
       "      <th>4</th>\n",
       "      <td>1.330305</td>\n",
       "      <td>0.402309</td>\n",
       "      <td>1.015622</td>\n",
       "      <td>0.007998</td>\n",
       "      <td>-0.899520</td>\n",
       "      <td>-0.543765</td>\n",
       "      <td>-0.855775</td>\n",
       "      <td>-1.264439</td>\n",
       "      <td>-1.075186</td>\n",
       "      <td>-1.081452</td>\n",
       "      <td>...</td>\n",
       "      <td>-1.445258</td>\n",
       "      <td>-0.896892</td>\n",
       "      <td>-0.243511</td>\n",
       "      <td>-2.086209</td>\n",
       "      <td>0.252582</td>\n",
       "      <td>1.25697</td>\n",
       "      <td>-0.729131</td>\n",
       "      <td>1.755352</td>\n",
       "      <td>0.320483</td>\n",
       "      <td>-1.616516</td>\n",
       "    </tr>\n",
       "  </tbody>\n",
       "</table>\n",
       "<p>5 rows × 28 columns</p>\n",
       "</div>"
      ],
      "text/plain": [
       "       Time      Race    Gender  Body_Size  With_Kids  Kids_Category  \\\n",
       "0  1.186818  1.281672  1.015622   0.007998   1.111704       1.509148   \n",
       "1  1.186818 -1.356417  1.015622   1.238486  -0.899520      -0.543765   \n",
       "2  1.186818  1.281672 -0.984618   0.007998  -0.899520      -0.543765   \n",
       "3  1.330305  0.402309  1.015622   1.238486  -0.899520      -0.543765   \n",
       "4  1.330305  0.402309  1.015622   0.007998  -0.899520      -0.543765   \n",
       "\n",
       "   Basket_Size  Basket_colour    Attire  Shirt_Colour  ...  TimeSpent_minutes  \\\n",
       "0    -0.855775       0.877381 -1.075186     -1.081452  ...          -1.095669   \n",
       "1    -0.855775      -0.652490 -1.075186      1.265385  ...          -1.165587   \n",
       "2    -0.855775      -1.264439 -1.075186      0.972030  ...          -1.235504   \n",
       "3    -0.855775      -1.570413 -1.075186     -1.374806  ...          -1.585093   \n",
       "4    -0.855775      -1.264439 -1.075186     -1.081452  ...          -1.445258   \n",
       "\n",
       "   buyDrinks  TotalSpent_RM  latitude  longitude  Num_of_Baskets   tempmax  \\\n",
       "0  -0.306655      -1.175289 -1.974354   0.219731        -1.24844 -0.729131   \n",
       "1   0.873818       1.620044 -1.844641   0.072282         1.25697 -0.729131   \n",
       "2  -0.306655      -0.243511 -1.678802   1.008022        -1.24844 -0.729131   \n",
       "3  -0.306655       0.455322 -1.495611   0.011978        -1.24844 -0.729131   \n",
       "4  -0.896892      -0.243511 -2.086209   0.252582         1.25697 -0.729131   \n",
       "\n",
       "    tempmin  humidity  description  \n",
       "0  1.755352  0.320483    -1.616516  \n",
       "1  1.755352  0.320483    -1.616516  \n",
       "2  1.755352  0.320483    -1.616516  \n",
       "3  1.755352  0.320483    -1.616516  \n",
       "4  1.755352  0.320483    -1.616516  \n",
       "\n",
       "[5 rows x 28 columns]"
      ]
     },
     "execution_count": 36,
     "metadata": {},
     "output_type": "execute_result"
    }
   ],
   "source": [
    "X =stats.zscore(X)\n",
    "X.head()"
   ]
  },
  {
   "cell_type": "code",
   "execution_count": 37,
   "id": "83bbc5e4",
   "metadata": {},
   "outputs": [
    {
     "data": {
      "text/plain": [
       "Counter({'cloudy': 52, 'fog': 60, 'rain': 3019, 'partly-cloudy-day': 869})"
      ]
     },
     "execution_count": 37,
     "metadata": {},
     "output_type": "execute_result"
    }
   ],
   "source": [
    "Counter(y)"
   ]
  },
  {
   "cell_type": "code",
   "execution_count": 17,
   "id": "de440c5e",
   "metadata": {},
   "outputs": [],
   "source": [
    "oversample = SMOTE()\n",
    "X, y = oversample.fit_resample(X, y)"
   ]
  },
  {
   "cell_type": "code",
   "execution_count": 18,
   "id": "1be02341",
   "metadata": {},
   "outputs": [
    {
     "data": {
      "text/plain": [
       "Counter({'cloudy': 3019, 'fog': 3019, 'rain': 3019, 'partly-cloudy-day': 3019})"
      ]
     },
     "execution_count": 18,
     "metadata": {},
     "output_type": "execute_result"
    }
   ],
   "source": [
    "Counter(y)"
   ]
  },
  {
   "cell_type": "code",
   "execution_count": 38,
   "id": "808c6c36",
   "metadata": {},
   "outputs": [],
   "source": [
    "from sklearn.neighbors import KNeighborsClassifier"
   ]
  },
  {
   "cell_type": "code",
   "execution_count": 39,
   "id": "d187ef6b",
   "metadata": {},
   "outputs": [],
   "source": [
    "X_train, X_test, y_train, y_test = train_test_split(X, y, test_size = 0.3, random_state=1)"
   ]
  },
  {
   "cell_type": "code",
   "execution_count": 21,
   "id": "edf52e5f",
   "metadata": {},
   "outputs": [
    {
     "data": {
      "text/html": [
       "<style>#sk-container-id-1 {color: black;background-color: white;}#sk-container-id-1 pre{padding: 0;}#sk-container-id-1 div.sk-toggleable {background-color: white;}#sk-container-id-1 label.sk-toggleable__label {cursor: pointer;display: block;width: 100%;margin-bottom: 0;padding: 0.3em;box-sizing: border-box;text-align: center;}#sk-container-id-1 label.sk-toggleable__label-arrow:before {content: \"▸\";float: left;margin-right: 0.25em;color: #696969;}#sk-container-id-1 label.sk-toggleable__label-arrow:hover:before {color: black;}#sk-container-id-1 div.sk-estimator:hover label.sk-toggleable__label-arrow:before {color: black;}#sk-container-id-1 div.sk-toggleable__content {max-height: 0;max-width: 0;overflow: hidden;text-align: left;background-color: #f0f8ff;}#sk-container-id-1 div.sk-toggleable__content pre {margin: 0.2em;color: black;border-radius: 0.25em;background-color: #f0f8ff;}#sk-container-id-1 input.sk-toggleable__control:checked~div.sk-toggleable__content {max-height: 200px;max-width: 100%;overflow: auto;}#sk-container-id-1 input.sk-toggleable__control:checked~label.sk-toggleable__label-arrow:before {content: \"▾\";}#sk-container-id-1 div.sk-estimator input.sk-toggleable__control:checked~label.sk-toggleable__label {background-color: #d4ebff;}#sk-container-id-1 div.sk-label input.sk-toggleable__control:checked~label.sk-toggleable__label {background-color: #d4ebff;}#sk-container-id-1 input.sk-hidden--visually {border: 0;clip: rect(1px 1px 1px 1px);clip: rect(1px, 1px, 1px, 1px);height: 1px;margin: -1px;overflow: hidden;padding: 0;position: absolute;width: 1px;}#sk-container-id-1 div.sk-estimator {font-family: monospace;background-color: #f0f8ff;border: 1px dotted black;border-radius: 0.25em;box-sizing: border-box;margin-bottom: 0.5em;}#sk-container-id-1 div.sk-estimator:hover {background-color: #d4ebff;}#sk-container-id-1 div.sk-parallel-item::after {content: \"\";width: 100%;border-bottom: 1px solid gray;flex-grow: 1;}#sk-container-id-1 div.sk-label:hover label.sk-toggleable__label {background-color: #d4ebff;}#sk-container-id-1 div.sk-serial::before {content: \"\";position: absolute;border-left: 1px solid gray;box-sizing: border-box;top: 0;bottom: 0;left: 50%;z-index: 0;}#sk-container-id-1 div.sk-serial {display: flex;flex-direction: column;align-items: center;background-color: white;padding-right: 0.2em;padding-left: 0.2em;position: relative;}#sk-container-id-1 div.sk-item {position: relative;z-index: 1;}#sk-container-id-1 div.sk-parallel {display: flex;align-items: stretch;justify-content: center;background-color: white;position: relative;}#sk-container-id-1 div.sk-item::before, #sk-container-id-1 div.sk-parallel-item::before {content: \"\";position: absolute;border-left: 1px solid gray;box-sizing: border-box;top: 0;bottom: 0;left: 50%;z-index: -1;}#sk-container-id-1 div.sk-parallel-item {display: flex;flex-direction: column;z-index: 1;position: relative;background-color: white;}#sk-container-id-1 div.sk-parallel-item:first-child::after {align-self: flex-end;width: 50%;}#sk-container-id-1 div.sk-parallel-item:last-child::after {align-self: flex-start;width: 50%;}#sk-container-id-1 div.sk-parallel-item:only-child::after {width: 0;}#sk-container-id-1 div.sk-dashed-wrapped {border: 1px dashed gray;margin: 0 0.4em 0.5em 0.4em;box-sizing: border-box;padding-bottom: 0.4em;background-color: white;}#sk-container-id-1 div.sk-label label {font-family: monospace;font-weight: bold;display: inline-block;line-height: 1.2em;}#sk-container-id-1 div.sk-label-container {text-align: center;}#sk-container-id-1 div.sk-container {/* jupyter's `normalize.less` sets `[hidden] { display: none; }` but bootstrap.min.css set `[hidden] { display: none !important; }` so we also need the `!important` here to be able to override the default hidden behavior on the sphinx rendered scikit-learn.org. See: https://github.com/scikit-learn/scikit-learn/issues/21755 */display: inline-block !important;position: relative;}#sk-container-id-1 div.sk-text-repr-fallback {display: none;}</style><div id=\"sk-container-id-1\" class=\"sk-top-container\"><div class=\"sk-text-repr-fallback\"><pre>KNeighborsClassifier()</pre><b>In a Jupyter environment, please rerun this cell to show the HTML representation or trust the notebook. <br />On GitHub, the HTML representation is unable to render, please try loading this page with nbviewer.org.</b></div><div class=\"sk-container\" hidden><div class=\"sk-item\"><div class=\"sk-estimator sk-toggleable\"><input class=\"sk-toggleable__control sk-hidden--visually\" id=\"sk-estimator-id-1\" type=\"checkbox\" checked><label for=\"sk-estimator-id-1\" class=\"sk-toggleable__label sk-toggleable__label-arrow\">KNeighborsClassifier</label><div class=\"sk-toggleable__content\"><pre>KNeighborsClassifier()</pre></div></div></div></div></div>"
      ],
      "text/plain": [
       "KNeighborsClassifier()"
      ]
     },
     "execution_count": 21,
     "metadata": {},
     "output_type": "execute_result"
    }
   ],
   "source": [
    "knn = KNeighborsClassifier()\n",
    "knn.fit(X_train, y_train)"
   ]
  },
  {
   "cell_type": "code",
   "execution_count": 22,
   "id": "0a2c4161",
   "metadata": {},
   "outputs": [],
   "source": [
    "test_data_predicted = knn.predict(X_test)"
   ]
  },
  {
   "cell_type": "code",
   "execution_count": 23,
   "id": "cf58f07f",
   "metadata": {},
   "outputs": [
    {
     "data": {
      "text/plain": [
       "0.8688931824454872"
      ]
     },
     "execution_count": 23,
     "metadata": {},
     "output_type": "execute_result"
    }
   ],
   "source": [
    "accuracy_score(test_data_predicted, y_test)"
   ]
  },
  {
   "cell_type": "code",
   "execution_count": 24,
   "id": "5eb65356",
   "metadata": {},
   "outputs": [
    {
     "data": {
      "image/png": "[encoded data removed]",
      "text/plain": [
       "<Figure size 640x480 with 1 Axes>"
      ]
     },
     "metadata": {},
     "output_type": "display_data"
    }
   ],
   "source": [
    "neighbors = np.arange(1, 30)\n",
    "train_accuracy = np.empty(len(neighbors))\n",
    "test_accuracy = np.empty(len(neighbors))\n",
    "\n",
    "# Loop over different values of k\n",
    "for i, k in enumerate(neighbors):\n",
    "    # Setup a k-NN Classifier with k neighbors: knn\n",
    "    knn = KNeighborsClassifier(n_neighbors=k)\n",
    "\n",
    "    # Fit the classifier to the training data\n",
    "    cv_scores = cross_val_score(knn, X, y, cv=5)\n",
    "    \n",
    "    #Compute accuracy on the training set\n",
    "    train_accuracy[i] = np.mean(cv_scores)\n",
    "\n",
    "    #Compute accuracy on the testing set\n",
    "    #test_accuracy[i] = knn.score(X_test, y_test)\n",
    "\n",
    "# Generate plot\n",
    "plt.title('k-NN: Varying Number of Neighbors')\n",
    "#plt.plot(neighbors, test_accuracy, label = 'Testing Accuracy')\n",
    "plt.plot(neighbors, train_accuracy, label = 'Training Accuracy')\n",
    "plt.legend()\n",
    "plt.xlabel('Number of Neighbors')\n",
    "plt.ylabel('Accuracy')\n",
    "plt.show()"
   ]
  },
  {
   "cell_type": "code",
   "execution_count": 25,
   "id": "068a567f",
   "metadata": {},
   "outputs": [
    {
     "data": {
      "text/html": [
       "<style>#sk-container-id-2 {color: black;background-color: white;}#sk-container-id-2 pre{padding: 0;}#sk-container-id-2 div.sk-toggleable {background-color: white;}#sk-container-id-2 label.sk-toggleable__label {cursor: pointer;display: block;width: 100%;margin-bottom: 0;padding: 0.3em;box-sizing: border-box;text-align: center;}#sk-container-id-2 label.sk-toggleable__label-arrow:before {content: \"▸\";float: left;margin-right: 0.25em;color: #696969;}#sk-container-id-2 label.sk-toggleable__label-arrow:hover:before {color: black;}#sk-container-id-2 div.sk-estimator:hover label.sk-toggleable__label-arrow:before {color: black;}#sk-container-id-2 div.sk-toggleable__content {max-height: 0;max-width: 0;overflow: hidden;text-align: left;background-color: #f0f8ff;}#sk-container-id-2 div.sk-toggleable__content pre {margin: 0.2em;color: black;border-radius: 0.25em;background-color: #f0f8ff;}#sk-container-id-2 input.sk-toggleable__control:checked~div.sk-toggleable__content {max-height: 200px;max-width: 100%;overflow: auto;}#sk-container-id-2 input.sk-toggleable__control:checked~label.sk-toggleable__label-arrow:before {content: \"▾\";}#sk-container-id-2 div.sk-estimator input.sk-toggleable__control:checked~label.sk-toggleable__label {background-color: #d4ebff;}#sk-container-id-2 div.sk-label input.sk-toggleable__control:checked~label.sk-toggleable__label {background-color: #d4ebff;}#sk-container-id-2 input.sk-hidden--visually {border: 0;clip: rect(1px 1px 1px 1px);clip: rect(1px, 1px, 1px, 1px);height: 1px;margin: -1px;overflow: hidden;padding: 0;position: absolute;width: 1px;}#sk-container-id-2 div.sk-estimator {font-family: monospace;background-color: #f0f8ff;border: 1px dotted black;border-radius: 0.25em;box-sizing: border-box;margin-bottom: 0.5em;}#sk-container-id-2 div.sk-estimator:hover {background-color: #d4ebff;}#sk-container-id-2 div.sk-parallel-item::after {content: \"\";width: 100%;border-bottom: 1px solid gray;flex-grow: 1;}#sk-container-id-2 div.sk-label:hover label.sk-toggleable__label {background-color: #d4ebff;}#sk-container-id-2 div.sk-serial::before {content: \"\";position: absolute;border-left: 1px solid gray;box-sizing: border-box;top: 0;bottom: 0;left: 50%;z-index: 0;}#sk-container-id-2 div.sk-serial {display: flex;flex-direction: column;align-items: center;background-color: white;padding-right: 0.2em;padding-left: 0.2em;position: relative;}#sk-container-id-2 div.sk-item {position: relative;z-index: 1;}#sk-container-id-2 div.sk-parallel {display: flex;align-items: stretch;justify-content: center;background-color: white;position: relative;}#sk-container-id-2 div.sk-item::before, #sk-container-id-2 div.sk-parallel-item::before {content: \"\";position: absolute;border-left: 1px solid gray;box-sizing: border-box;top: 0;bottom: 0;left: 50%;z-index: -1;}#sk-container-id-2 div.sk-parallel-item {display: flex;flex-direction: column;z-index: 1;position: relative;background-color: white;}#sk-container-id-2 div.sk-parallel-item:first-child::after {align-self: flex-end;width: 50%;}#sk-container-id-2 div.sk-parallel-item:last-child::after {align-self: flex-start;width: 50%;}#sk-container-id-2 div.sk-parallel-item:only-child::after {width: 0;}#sk-container-id-2 div.sk-dashed-wrapped {border: 1px dashed gray;margin: 0 0.4em 0.5em 0.4em;box-sizing: border-box;padding-bottom: 0.4em;background-color: white;}#sk-container-id-2 div.sk-label label {font-family: monospace;font-weight: bold;display: inline-block;line-height: 1.2em;}#sk-container-id-2 div.sk-label-container {text-align: center;}#sk-container-id-2 div.sk-container {/* jupyter's `normalize.less` sets `[hidden] { display: none; }` but bootstrap.min.css set `[hidden] { display: none !important; }` so we also need the `!important` here to be able to override the default hidden behavior on the sphinx rendered scikit-learn.org. See: https://github.com/scikit-learn/scikit-learn/issues/21755 */display: inline-block !important;position: relative;}#sk-container-id-2 div.sk-text-repr-fallback {display: none;}</style><div id=\"sk-container-id-2\" class=\"sk-top-container\"><div class=\"sk-text-repr-fallback\"><pre>GridSearchCV(cv=5, estimator=KNeighborsClassifier(n_neighbors=29),\n",
       "             param_grid={&#x27;n_neighbors&#x27;: array([ 1,  2,  3,  4,  5,  6,  7,  8,  9, 10, 11, 12, 13, 14, 15, 16, 17,\n",
       "       18, 19, 20, 21, 22, 23, 24, 25, 26, 27, 28, 29, 30, 31, 32, 33, 34,\n",
       "       35, 36, 37, 38, 39])})</pre><b>In a Jupyter environment, please rerun this cell to show the HTML representation or trust the notebook. <br />On GitHub, the HTML representation is unable to render, please try loading this page with nbviewer.org.</b></div><div class=\"sk-container\" hidden><div class=\"sk-item sk-dashed-wrapped\"><div class=\"sk-label-container\"><div class=\"sk-label sk-toggleable\"><input class=\"sk-toggleable__control sk-hidden--visually\" id=\"sk-estimator-id-2\" type=\"checkbox\" ><label for=\"sk-estimator-id-2\" class=\"sk-toggleable__label sk-toggleable__label-arrow\">GridSearchCV</label><div class=\"sk-toggleable__content\"><pre>GridSearchCV(cv=5, estimator=KNeighborsClassifier(n_neighbors=29),\n",
       "             param_grid={&#x27;n_neighbors&#x27;: array([ 1,  2,  3,  4,  5,  6,  7,  8,  9, 10, 11, 12, 13, 14, 15, 16, 17,\n",
       "       18, 19, 20, 21, 22, 23, 24, 25, 26, 27, 28, 29, 30, 31, 32, 33, 34,\n",
       "       35, 36, 37, 38, 39])})</pre></div></div></div><div class=\"sk-parallel\"><div class=\"sk-parallel-item\"><div class=\"sk-item\"><div class=\"sk-label-container\"><div class=\"sk-label sk-toggleable\"><input class=\"sk-toggleable__control sk-hidden--visually\" id=\"sk-estimator-id-3\" type=\"checkbox\" ><label for=\"sk-estimator-id-3\" class=\"sk-toggleable__label sk-toggleable__label-arrow\">estimator: KNeighborsClassifier</label><div class=\"sk-toggleable__content\"><pre>KNeighborsClassifier(n_neighbors=29)</pre></div></div></div><div class=\"sk-serial\"><div class=\"sk-item\"><div class=\"sk-estimator sk-toggleable\"><input class=\"sk-toggleable__control sk-hidden--visually\" id=\"sk-estimator-id-4\" type=\"checkbox\" ><label for=\"sk-estimator-id-4\" class=\"sk-toggleable__label sk-toggleable__label-arrow\">KNeighborsClassifier</label><div class=\"sk-toggleable__content\"><pre>KNeighborsClassifier(n_neighbors=29)</pre></div></div></div></div></div></div></div></div></div></div>"
      ],
      "text/plain": [
       "GridSearchCV(cv=5, estimator=KNeighborsClassifier(n_neighbors=29),\n",
       "             param_grid={'n_neighbors': array([ 1,  2,  3,  4,  5,  6,  7,  8,  9, 10, 11, 12, 13, 14, 15, 16, 17,\n",
       "       18, 19, 20, 21, 22, 23, 24, 25, 26, 27, 28, 29, 30, 31, 32, 33, 34,\n",
       "       35, 36, 37, 38, 39])})"
      ]
     },
     "execution_count": 25,
     "metadata": {},
     "output_type": "execute_result"
    }
   ],
   "source": [
    "#create a dictionary of all values we want to test for n_neighbors\n",
    "param_grid = {'n_neighbors': np.arange(1, 40)}\n",
    "#use gridsearch to test all values for n_neighbors\n",
    "knn_gscv = GridSearchCV(knn, param_grid, cv=5)\n",
    "#fit model to data\n",
    "knn_gscv.fit(X, y)\n"
   ]
  },
  {
   "cell_type": "code",
   "execution_count": 26,
   "id": "99482020",
   "metadata": {},
   "outputs": [
    {
     "data": {
      "text/plain": [
       "{'n_neighbors': 1}"
      ]
     },
     "execution_count": 26,
     "metadata": {},
     "output_type": "execute_result"
    }
   ],
   "source": [
    "knn_gscv.best_params_"
   ]
  },
  {
   "cell_type": "code",
   "execution_count": 27,
   "id": "18060ded",
   "metadata": {},
   "outputs": [
    {
     "data": {
      "text/plain": [
       "0.8980704893532421"
      ]
     },
     "execution_count": 27,
     "metadata": {},
     "output_type": "execute_result"
    }
   ],
   "source": [
    "knn_gscv.best_score_"
   ]
  },
  {
   "cell_type": "code",
   "execution_count": 30,
   "id": "0478c7e3",
   "metadata": {},
   "outputs": [
    {
     "data": {
      "text/plain": [
       "array(['cloudy', 'cloudy', 'cloudy', ..., 'partly-cloudy-day',\n",
       "       'partly-cloudy-day', 'partly-cloudy-day'], dtype=object)"
      ]
     },
     "execution_count": 30,
     "metadata": {},
     "output_type": "execute_result"
    }
   ],
   "source": [
    "y_pred = knn_gscv.best_estimator_.predict(X)\n",
    "y_pred"
   ]
  },
  {
   "cell_type": "code",
   "execution_count": 31,
   "id": "45f6b1c7",
   "metadata": {},
   "outputs": [
    {
     "name": "stderr",
     "output_type": "stream",
     "text": [
      "/home/haziqfaiz/lib64/python3.10/site-packages/sklearn/utils/deprecation.py:87: FutureWarning: Function plot_confusion_matrix is deprecated; Function `plot_confusion_matrix` is deprecated in 1.0 and will be removed in 1.2. Use one of the class methods: ConfusionMatrixDisplay.from_predictions or ConfusionMatrixDisplay.from_estimator.\n",
      "  warnings.warn(msg, category=FutureWarning)\n"
     ]
    },
    {
     "data": {
      "text/plain": [
       "<sklearn.metrics._plot.confusion_matrix.ConfusionMatrixDisplay at 0x7f73008596f0>"
      ]
     },
     "execution_count": 31,
     "metadata": {},
     "output_type": "execute_result"
    },
    {
     "data": {
      "image/png": "[encoded data removed]",
      "text/plain": [
       "<Figure size 640x480 with 2 Axes>"
      ]
     },
     "metadata": {},
     "output_type": "display_data"
    }
   ],
   "source": [
    "from sklearn.metrics import plot_confusion_matrix, roc_curve, precision_recall_curve\n",
    "plot_confusion_matrix(knn_gscv.best_estimator_, X, y)"
   ]
  },
  {
   "cell_type": "code",
   "execution_count": 45,
   "id": "ccb1f91c",
   "metadata": {},
   "outputs": [
    {
     "data": {
      "text/plain": [
       "array([[1., 0., 0., 0.],\n",
       "       [1., 0., 0., 0.],\n",
       "       [1., 0., 0., 0.],\n",
       "       ...,\n",
       "       [0., 0., 0., 1.],\n",
       "       [0., 0., 0., 1.],\n",
       "       [0., 0., 0., 1.]])"
      ]
     },
     "execution_count": 45,
     "metadata": {},
     "output_type": "execute_result"
    }
   ],
   "source": [
    "y_proba = knn_gscv.best_estimator_.predict_proba(X)\n",
    "y_proba"
   ]
  },
  {
   "cell_type": "code",
   "execution_count": 72,
   "id": "e9c966a3",
   "metadata": {},
   "outputs": [],
   "source": [
    "oversample = RandomOverSampler(sampling_strategy=\"minority\")"
   ]
  },
  {
   "cell_type": "code",
   "execution_count": 73,
   "id": "ea77bc69",
   "metadata": {},
   "outputs": [
    {
     "data": {
      "text/html": [
       "<div>\n",
       "<style scoped>\n",
       "    .dataframe tbody tr th:only-of-type {\n",
       "        vertical-align: middle;\n",
       "    }\n",
       "\n",
       "    .dataframe tbody tr th {\n",
       "        vertical-align: top;\n",
       "    }\n",
       "\n",
       "    .dataframe thead th {\n",
       "        text-align: right;\n",
       "    }\n",
       "</style>\n",
       "<table border=\"1\" class=\"dataframe\">\n",
       "  <thead>\n",
       "    <tr style=\"text-align: right;\">\n",
       "      <th></th>\n",
       "      <th>Time</th>\n",
       "      <th>Race</th>\n",
       "      <th>Gender</th>\n",
       "      <th>Body_Size</th>\n",
       "      <th>With_Kids</th>\n",
       "      <th>Kids_Category</th>\n",
       "      <th>Basket_Size</th>\n",
       "      <th>Basket_colour</th>\n",
       "      <th>Attire</th>\n",
       "      <th>Shirt_Colour</th>\n",
       "      <th>...</th>\n",
       "      <th>TimeSpent_minutes</th>\n",
       "      <th>buyDrinks</th>\n",
       "      <th>TotalSpent_RM</th>\n",
       "      <th>latitude</th>\n",
       "      <th>longitude</th>\n",
       "      <th>Num_of_Baskets</th>\n",
       "      <th>tempmax</th>\n",
       "      <th>tempmin</th>\n",
       "      <th>humidity</th>\n",
       "      <th>description</th>\n",
       "    </tr>\n",
       "  </thead>\n",
       "  <tbody>\n",
       "    <tr>\n",
       "      <th>0</th>\n",
       "      <td>1.186818</td>\n",
       "      <td>1.281672</td>\n",
       "      <td>1.015622</td>\n",
       "      <td>0.007998</td>\n",
       "      <td>1.111704</td>\n",
       "      <td>1.509148</td>\n",
       "      <td>-0.855775</td>\n",
       "      <td>0.877381</td>\n",
       "      <td>-1.075186</td>\n",
       "      <td>-1.081452</td>\n",
       "      <td>...</td>\n",
       "      <td>-1.095669</td>\n",
       "      <td>-0.306655</td>\n",
       "      <td>-1.175289</td>\n",
       "      <td>-1.974354</td>\n",
       "      <td>0.219731</td>\n",
       "      <td>-1.24844</td>\n",
       "      <td>-0.729131</td>\n",
       "      <td>1.755352</td>\n",
       "      <td>0.320483</td>\n",
       "      <td>-1.616516</td>\n",
       "    </tr>\n",
       "    <tr>\n",
       "      <th>1</th>\n",
       "      <td>1.186818</td>\n",
       "      <td>-1.356417</td>\n",
       "      <td>1.015622</td>\n",
       "      <td>1.238486</td>\n",
       "      <td>-0.899520</td>\n",
       "      <td>-0.543765</td>\n",
       "      <td>-0.855775</td>\n",
       "      <td>-0.652490</td>\n",
       "      <td>-1.075186</td>\n",
       "      <td>1.265385</td>\n",
       "      <td>...</td>\n",
       "      <td>-1.165587</td>\n",
       "      <td>0.873818</td>\n",
       "      <td>1.620044</td>\n",
       "      <td>-1.844641</td>\n",
       "      <td>0.072282</td>\n",
       "      <td>1.25697</td>\n",
       "      <td>-0.729131</td>\n",
       "      <td>1.755352</td>\n",
       "      <td>0.320483</td>\n",
       "      <td>-1.616516</td>\n",
       "    </tr>\n",
       "    <tr>\n",
       "      <th>2</th>\n",
       "      <td>1.186818</td>\n",
       "      <td>1.281672</td>\n",
       "      <td>-0.984618</td>\n",
       "      <td>0.007998</td>\n",
       "      <td>-0.899520</td>\n",
       "      <td>-0.543765</td>\n",
       "      <td>-0.855775</td>\n",
       "      <td>-1.264439</td>\n",
       "      <td>-1.075186</td>\n",
       "      <td>0.972030</td>\n",
       "      <td>...</td>\n",
       "      <td>-1.235504</td>\n",
       "      <td>-0.306655</td>\n",
       "      <td>-0.243511</td>\n",
       "      <td>-1.678802</td>\n",
       "      <td>1.008022</td>\n",
       "      <td>-1.24844</td>\n",
       "      <td>-0.729131</td>\n",
       "      <td>1.755352</td>\n",
       "      <td>0.320483</td>\n",
       "      <td>-1.616516</td>\n",
       "    </tr>\n",
       "    <tr>\n",
       "      <th>3</th>\n",
       "      <td>1.330305</td>\n",
       "      <td>0.402309</td>\n",
       "      <td>1.015622</td>\n",
       "      <td>1.238486</td>\n",
       "      <td>-0.899520</td>\n",
       "      <td>-0.543765</td>\n",
       "      <td>-0.855775</td>\n",
       "      <td>-1.570413</td>\n",
       "      <td>-1.075186</td>\n",
       "      <td>-1.374806</td>\n",
       "      <td>...</td>\n",
       "      <td>-1.585093</td>\n",
       "      <td>-0.306655</td>\n",
       "      <td>0.455322</td>\n",
       "      <td>-1.495611</td>\n",
       "      <td>0.011978</td>\n",
       "      <td>-1.24844</td>\n",
       "      <td>-0.729131</td>\n",
       "      <td>1.755352</td>\n",
       "      <td>0.320483</td>\n",
       "      <td>-1.616516</td>\n",
       "    </tr>\n",
       "    <tr>\n",
       "      <th>4</th>\n",
       "      <td>1.330305</td>\n",
       "      <td>0.402309</td>\n",
       "      <td>1.015622</td>\n",
       "      <td>0.007998</td>\n",
       "      <td>-0.899520</td>\n",
       "      <td>-0.543765</td>\n",
       "      <td>-0.855775</td>\n",
       "      <td>-1.264439</td>\n",
       "      <td>-1.075186</td>\n",
       "      <td>-1.081452</td>\n",
       "      <td>...</td>\n",
       "      <td>-1.445258</td>\n",
       "      <td>-0.896892</td>\n",
       "      <td>-0.243511</td>\n",
       "      <td>-2.086209</td>\n",
       "      <td>0.252582</td>\n",
       "      <td>1.25697</td>\n",
       "      <td>-0.729131</td>\n",
       "      <td>1.755352</td>\n",
       "      <td>0.320483</td>\n",
       "      <td>-1.616516</td>\n",
       "    </tr>\n",
       "  </tbody>\n",
       "</table>\n",
       "<p>5 rows × 28 columns</p>\n",
       "</div>"
      ],
      "text/plain": [
       "       Time      Race    Gender  Body_Size  With_Kids  Kids_Category  \\\n",
       "0  1.186818  1.281672  1.015622   0.007998   1.111704       1.509148   \n",
       "1  1.186818 -1.356417  1.015622   1.238486  -0.899520      -0.543765   \n",
       "2  1.186818  1.281672 -0.984618   0.007998  -0.899520      -0.543765   \n",
       "3  1.330305  0.402309  1.015622   1.238486  -0.899520      -0.543765   \n",
       "4  1.330305  0.402309  1.015622   0.007998  -0.899520      -0.543765   \n",
       "\n",
       "   Basket_Size  Basket_colour    Attire  Shirt_Colour  ...  TimeSpent_minutes  \\\n",
       "0    -0.855775       0.877381 -1.075186     -1.081452  ...          -1.095669   \n",
       "1    -0.855775      -0.652490 -1.075186      1.265385  ...          -1.165587   \n",
       "2    -0.855775      -1.264439 -1.075186      0.972030  ...          -1.235504   \n",
       "3    -0.855775      -1.570413 -1.075186     -1.374806  ...          -1.585093   \n",
       "4    -0.855775      -1.264439 -1.075186     -1.081452  ...          -1.445258   \n",
       "\n",
       "   buyDrinks  TotalSpent_RM  latitude  longitude  Num_of_Baskets   tempmax  \\\n",
       "0  -0.306655      -1.175289 -1.974354   0.219731        -1.24844 -0.729131   \n",
       "1   0.873818       1.620044 -1.844641   0.072282         1.25697 -0.729131   \n",
       "2  -0.306655      -0.243511 -1.678802   1.008022        -1.24844 -0.729131   \n",
       "3  -0.306655       0.455322 -1.495611   0.011978        -1.24844 -0.729131   \n",
       "4  -0.896892      -0.243511 -2.086209   0.252582         1.25697 -0.729131   \n",
       "\n",
       "    tempmin  humidity  description  \n",
       "0  1.755352  0.320483    -1.616516  \n",
       "1  1.755352  0.320483    -1.616516  \n",
       "2  1.755352  0.320483    -1.616516  \n",
       "3  1.755352  0.320483    -1.616516  \n",
       "4  1.755352  0.320483    -1.616516  \n",
       "\n",
       "[5 rows x 28 columns]"
      ]
     },
     "execution_count": 73,
     "metadata": {},
     "output_type": "execute_result"
    }
   ],
   "source": [
    "X_over, y_over = oversample.fit_resample(X, y)\n",
    "X_over.head()"
   ]
  },
  {
   "cell_type": "code",
   "execution_count": 74,
   "id": "26021f29",
   "metadata": {},
   "outputs": [],
   "source": [
    "X_train, X_test, y_train, y_test = train_test_split(X_over, y_over, test_size = 0.3, random_state=1)"
   ]
  },
  {
   "cell_type": "code",
   "execution_count": 84,
   "id": "4a887ff8",
   "metadata": {},
   "outputs": [
    {
     "data": {
      "image/png": "[encoded data removed]",
      "text/plain": [
       "<Figure size 640x480 with 1 Axes>"
      ]
     },
     "metadata": {},
     "output_type": "display_data"
    }
   ],
   "source": [
    "neighbors = np.arange(1, 30)\n",
    "train_accuracy = np.empty(len(neighbors))\n",
    "test_accuracy = np.empty(len(neighbors))\n",
    "\n",
    "# Loop over different values of k\n",
    "for i, k in enumerate(neighbors):\n",
    "    # Setup a k-NN Classifier with k neighbors: knn\n",
    "    knn = KNeighborsClassifier(n_neighbors=k)\n",
    "\n",
    "    # Fit the classifier to the training data\n",
    "    cv_scores = cross_val_score(knn, X_over, y_over, cv=5)\n",
    "    \n",
    "    #Compute accuracy on the training set\n",
    "    train_accuracy[i] = np.mean(cv_scores)\n",
    "\n",
    "    #Compute accuracy on the testing set\n",
    "    #test_accuracy[i] = knn.score(X_test, y_test)\n",
    "\n",
    "# Generate plot\n",
    "plt.title('k-NN: Varying Number of Neighbors')\n",
    "#plt.plot(neighbors, test_accuracy, label = 'Testing Accuracy')\n",
    "plt.plot(neighbors, train_accuracy, label = 'Training Accuracy')\n",
    "plt.legend()\n",
    "plt.xlabel('Number of Neighbors')\n",
    "plt.ylabel('Accuracy')\n",
    "plt.show()"
   ]
  },
  {
   "cell_type": "code",
   "execution_count": 78,
   "id": "a69502e6",
   "metadata": {},
   "outputs": [
    {
     "data": {
      "text/html": [
       "<style>#sk-container-id-8 {color: black;background-color: white;}#sk-container-id-8 pre{padding: 0;}#sk-container-id-8 div.sk-toggleable {background-color: white;}#sk-container-id-8 label.sk-toggleable__label {cursor: pointer;display: block;width: 100%;margin-bottom: 0;padding: 0.3em;box-sizing: border-box;text-align: center;}#sk-container-id-8 label.sk-toggleable__label-arrow:before {content: \"▸\";float: left;margin-right: 0.25em;color: #696969;}#sk-container-id-8 label.sk-toggleable__label-arrow:hover:before {color: black;}#sk-container-id-8 div.sk-estimator:hover label.sk-toggleable__label-arrow:before {color: black;}#sk-container-id-8 div.sk-toggleable__content {max-height: 0;max-width: 0;overflow: hidden;text-align: left;background-color: #f0f8ff;}#sk-container-id-8 div.sk-toggleable__content pre {margin: 0.2em;color: black;border-radius: 0.25em;background-color: #f0f8ff;}#sk-container-id-8 input.sk-toggleable__control:checked~div.sk-toggleable__content {max-height: 200px;max-width: 100%;overflow: auto;}#sk-container-id-8 input.sk-toggleable__control:checked~label.sk-toggleable__label-arrow:before {content: \"▾\";}#sk-container-id-8 div.sk-estimator input.sk-toggleable__control:checked~label.sk-toggleable__label {background-color: #d4ebff;}#sk-container-id-8 div.sk-label input.sk-toggleable__control:checked~label.sk-toggleable__label {background-color: #d4ebff;}#sk-container-id-8 input.sk-hidden--visually {border: 0;clip: rect(1px 1px 1px 1px);clip: rect(1px, 1px, 1px, 1px);height: 1px;margin: -1px;overflow: hidden;padding: 0;position: absolute;width: 1px;}#sk-container-id-8 div.sk-estimator {font-family: monospace;background-color: #f0f8ff;border: 1px dotted black;border-radius: 0.25em;box-sizing: border-box;margin-bottom: 0.5em;}#sk-container-id-8 div.sk-estimator:hover {background-color: #d4ebff;}#sk-container-id-8 div.sk-parallel-item::after {content: \"\";width: 100%;border-bottom: 1px solid gray;flex-grow: 1;}#sk-container-id-8 div.sk-label:hover label.sk-toggleable__label {background-color: #d4ebff;}#sk-container-id-8 div.sk-serial::before {content: \"\";position: absolute;border-left: 1px solid gray;box-sizing: border-box;top: 0;bottom: 0;left: 50%;z-index: 0;}#sk-container-id-8 div.sk-serial {display: flex;flex-direction: column;align-items: center;background-color: white;padding-right: 0.2em;padding-left: 0.2em;position: relative;}#sk-container-id-8 div.sk-item {position: relative;z-index: 1;}#sk-container-id-8 div.sk-parallel {display: flex;align-items: stretch;justify-content: center;background-color: white;position: relative;}#sk-container-id-8 div.sk-item::before, #sk-container-id-8 div.sk-parallel-item::before {content: \"\";position: absolute;border-left: 1px solid gray;box-sizing: border-box;top: 0;bottom: 0;left: 50%;z-index: -1;}#sk-container-id-8 div.sk-parallel-item {display: flex;flex-direction: column;z-index: 1;position: relative;background-color: white;}#sk-container-id-8 div.sk-parallel-item:first-child::after {align-self: flex-end;width: 50%;}#sk-container-id-8 div.sk-parallel-item:last-child::after {align-self: flex-start;width: 50%;}#sk-container-id-8 div.sk-parallel-item:only-child::after {width: 0;}#sk-container-id-8 div.sk-dashed-wrapped {border: 1px dashed gray;margin: 0 0.4em 0.5em 0.4em;box-sizing: border-box;padding-bottom: 0.4em;background-color: white;}#sk-container-id-8 div.sk-label label {font-family: monospace;font-weight: bold;display: inline-block;line-height: 1.2em;}#sk-container-id-8 div.sk-label-container {text-align: center;}#sk-container-id-8 div.sk-container {/* jupyter's `normalize.less` sets `[hidden] { display: none; }` but bootstrap.min.css set `[hidden] { display: none !important; }` so we also need the `!important` here to be able to override the default hidden behavior on the sphinx rendered scikit-learn.org. See: https://github.com/scikit-learn/scikit-learn/issues/21755 */display: inline-block !important;position: relative;}#sk-container-id-8 div.sk-text-repr-fallback {display: none;}</style><div id=\"sk-container-id-8\" class=\"sk-top-container\"><div class=\"sk-text-repr-fallback\"><pre>GridSearchCV(cv=5, estimator=KNeighborsClassifier(n_neighbors=29),\n",
       "             param_grid={&#x27;n_neighbors&#x27;: array([ 1,  2,  3,  4,  5,  6,  7,  8,  9, 10, 11, 12, 13, 14, 15, 16, 17,\n",
       "       18, 19, 20, 21, 22, 23, 24, 25, 26, 27, 28, 29, 30, 31, 32, 33, 34,\n",
       "       35, 36, 37, 38, 39])})</pre><b>In a Jupyter environment, please rerun this cell to show the HTML representation or trust the notebook. <br />On GitHub, the HTML representation is unable to render, please try loading this page with nbviewer.org.</b></div><div class=\"sk-container\" hidden><div class=\"sk-item sk-dashed-wrapped\"><div class=\"sk-label-container\"><div class=\"sk-label sk-toggleable\"><input class=\"sk-toggleable__control sk-hidden--visually\" id=\"sk-estimator-id-14\" type=\"checkbox\" ><label for=\"sk-estimator-id-14\" class=\"sk-toggleable__label sk-toggleable__label-arrow\">GridSearchCV</label><div class=\"sk-toggleable__content\"><pre>GridSearchCV(cv=5, estimator=KNeighborsClassifier(n_neighbors=29),\n",
       "             param_grid={&#x27;n_neighbors&#x27;: array([ 1,  2,  3,  4,  5,  6,  7,  8,  9, 10, 11, 12, 13, 14, 15, 16, 17,\n",
       "       18, 19, 20, 21, 22, 23, 24, 25, 26, 27, 28, 29, 30, 31, 32, 33, 34,\n",
       "       35, 36, 37, 38, 39])})</pre></div></div></div><div class=\"sk-parallel\"><div class=\"sk-parallel-item\"><div class=\"sk-item\"><div class=\"sk-label-container\"><div class=\"sk-label sk-toggleable\"><input class=\"sk-toggleable__control sk-hidden--visually\" id=\"sk-estimator-id-15\" type=\"checkbox\" ><label for=\"sk-estimator-id-15\" class=\"sk-toggleable__label sk-toggleable__label-arrow\">estimator: KNeighborsClassifier</label><div class=\"sk-toggleable__content\"><pre>KNeighborsClassifier(n_neighbors=29)</pre></div></div></div><div class=\"sk-serial\"><div class=\"sk-item\"><div class=\"sk-estimator sk-toggleable\"><input class=\"sk-toggleable__control sk-hidden--visually\" id=\"sk-estimator-id-16\" type=\"checkbox\" ><label for=\"sk-estimator-id-16\" class=\"sk-toggleable__label sk-toggleable__label-arrow\">KNeighborsClassifier</label><div class=\"sk-toggleable__content\"><pre>KNeighborsClassifier(n_neighbors=29)</pre></div></div></div></div></div></div></div></div></div></div>"
      ],
      "text/plain": [
       "GridSearchCV(cv=5, estimator=KNeighborsClassifier(n_neighbors=29),\n",
       "             param_grid={'n_neighbors': array([ 1,  2,  3,  4,  5,  6,  7,  8,  9, 10, 11, 12, 13, 14, 15, 16, 17,\n",
       "       18, 19, 20, 21, 22, 23, 24, 25, 26, 27, 28, 29, 30, 31, 32, 33, 34,\n",
       "       35, 36, 37, 38, 39])})"
      ]
     },
     "execution_count": 78,
     "metadata": {},
     "output_type": "execute_result"
    }
   ],
   "source": [
    "#create a dictionary of all values we want to test for n_neighbors\n",
    "param_grid = {'n_neighbors': np.arange(1, 40)}\n",
    "#use gridsearch to test all values for n_neighbors\n",
    "knn_gscv = GridSearchCV(knn, param_grid, cv=5)\n",
    "#fit model to data\n",
    "knn_gscv.fit(X_over, y_over)"
   ]
  },
  {
   "cell_type": "code",
   "execution_count": 79,
   "id": "79e17668",
   "metadata": {},
   "outputs": [
    {
     "data": {
      "text/plain": [
       "{'n_neighbors': 8}"
      ]
     },
     "execution_count": 79,
     "metadata": {},
     "output_type": "execute_result"
    }
   ],
   "source": [
    "knn_gscv.best_params_"
   ]
  },
  {
   "cell_type": "code",
   "execution_count": 80,
   "id": "a1064890",
   "metadata": {},
   "outputs": [
    {
     "data": {
      "text/plain": [
       "0.8576390870111987"
      ]
     },
     "execution_count": 80,
     "metadata": {},
     "output_type": "execute_result"
    }
   ],
   "source": [
    "knn_gscv.best_score_"
   ]
  },
  {
   "cell_type": "code",
   "execution_count": 82,
   "id": "60cd95ea",
   "metadata": {},
   "outputs": [],
   "source": [
    "undersample = RandomUnderSampler(sampling_strategy=\"majority\")"
   ]
  },
  {
   "cell_type": "code",
   "execution_count": 83,
   "id": "d3cf025e",
   "metadata": {},
   "outputs": [
    {
     "data": {
      "text/html": [
       "<div>\n",
       "<style scoped>\n",
       "    .dataframe tbody tr th:only-of-type {\n",
       "        vertical-align: middle;\n",
       "    }\n",
       "\n",
       "    .dataframe tbody tr th {\n",
       "        vertical-align: top;\n",
       "    }\n",
       "\n",
       "    .dataframe thead th {\n",
       "        text-align: right;\n",
       "    }\n",
       "</style>\n",
       "<table border=\"1\" class=\"dataframe\">\n",
       "  <thead>\n",
       "    <tr style=\"text-align: right;\">\n",
       "      <th></th>\n",
       "      <th>Time</th>\n",
       "      <th>Race</th>\n",
       "      <th>Gender</th>\n",
       "      <th>Body_Size</th>\n",
       "      <th>With_Kids</th>\n",
       "      <th>Kids_Category</th>\n",
       "      <th>Basket_Size</th>\n",
       "      <th>Basket_colour</th>\n",
       "      <th>Attire</th>\n",
       "      <th>Shirt_Colour</th>\n",
       "      <th>...</th>\n",
       "      <th>TimeSpent_minutes</th>\n",
       "      <th>buyDrinks</th>\n",
       "      <th>TotalSpent_RM</th>\n",
       "      <th>latitude</th>\n",
       "      <th>longitude</th>\n",
       "      <th>Num_of_Baskets</th>\n",
       "      <th>tempmax</th>\n",
       "      <th>tempmin</th>\n",
       "      <th>humidity</th>\n",
       "      <th>description</th>\n",
       "    </tr>\n",
       "  </thead>\n",
       "  <tbody>\n",
       "    <tr>\n",
       "      <th>0</th>\n",
       "      <td>1.186818</td>\n",
       "      <td>1.281672</td>\n",
       "      <td>1.015622</td>\n",
       "      <td>0.007998</td>\n",
       "      <td>1.111704</td>\n",
       "      <td>1.509148</td>\n",
       "      <td>-0.855775</td>\n",
       "      <td>0.877381</td>\n",
       "      <td>-1.075186</td>\n",
       "      <td>-1.081452</td>\n",
       "      <td>...</td>\n",
       "      <td>-1.095669</td>\n",
       "      <td>-0.306655</td>\n",
       "      <td>-1.175289</td>\n",
       "      <td>-1.974354</td>\n",
       "      <td>0.219731</td>\n",
       "      <td>-1.24844</td>\n",
       "      <td>-0.729131</td>\n",
       "      <td>1.755352</td>\n",
       "      <td>0.320483</td>\n",
       "      <td>-1.616516</td>\n",
       "    </tr>\n",
       "    <tr>\n",
       "      <th>1</th>\n",
       "      <td>1.186818</td>\n",
       "      <td>-1.356417</td>\n",
       "      <td>1.015622</td>\n",
       "      <td>1.238486</td>\n",
       "      <td>-0.899520</td>\n",
       "      <td>-0.543765</td>\n",
       "      <td>-0.855775</td>\n",
       "      <td>-0.652490</td>\n",
       "      <td>-1.075186</td>\n",
       "      <td>1.265385</td>\n",
       "      <td>...</td>\n",
       "      <td>-1.165587</td>\n",
       "      <td>0.873818</td>\n",
       "      <td>1.620044</td>\n",
       "      <td>-1.844641</td>\n",
       "      <td>0.072282</td>\n",
       "      <td>1.25697</td>\n",
       "      <td>-0.729131</td>\n",
       "      <td>1.755352</td>\n",
       "      <td>0.320483</td>\n",
       "      <td>-1.616516</td>\n",
       "    </tr>\n",
       "    <tr>\n",
       "      <th>2</th>\n",
       "      <td>1.186818</td>\n",
       "      <td>1.281672</td>\n",
       "      <td>-0.984618</td>\n",
       "      <td>0.007998</td>\n",
       "      <td>-0.899520</td>\n",
       "      <td>-0.543765</td>\n",
       "      <td>-0.855775</td>\n",
       "      <td>-1.264439</td>\n",
       "      <td>-1.075186</td>\n",
       "      <td>0.972030</td>\n",
       "      <td>...</td>\n",
       "      <td>-1.235504</td>\n",
       "      <td>-0.306655</td>\n",
       "      <td>-0.243511</td>\n",
       "      <td>-1.678802</td>\n",
       "      <td>1.008022</td>\n",
       "      <td>-1.24844</td>\n",
       "      <td>-0.729131</td>\n",
       "      <td>1.755352</td>\n",
       "      <td>0.320483</td>\n",
       "      <td>-1.616516</td>\n",
       "    </tr>\n",
       "    <tr>\n",
       "      <th>3</th>\n",
       "      <td>1.330305</td>\n",
       "      <td>0.402309</td>\n",
       "      <td>1.015622</td>\n",
       "      <td>1.238486</td>\n",
       "      <td>-0.899520</td>\n",
       "      <td>-0.543765</td>\n",
       "      <td>-0.855775</td>\n",
       "      <td>-1.570413</td>\n",
       "      <td>-1.075186</td>\n",
       "      <td>-1.374806</td>\n",
       "      <td>...</td>\n",
       "      <td>-1.585093</td>\n",
       "      <td>-0.306655</td>\n",
       "      <td>0.455322</td>\n",
       "      <td>-1.495611</td>\n",
       "      <td>0.011978</td>\n",
       "      <td>-1.24844</td>\n",
       "      <td>-0.729131</td>\n",
       "      <td>1.755352</td>\n",
       "      <td>0.320483</td>\n",
       "      <td>-1.616516</td>\n",
       "    </tr>\n",
       "    <tr>\n",
       "      <th>4</th>\n",
       "      <td>1.330305</td>\n",
       "      <td>0.402309</td>\n",
       "      <td>1.015622</td>\n",
       "      <td>0.007998</td>\n",
       "      <td>-0.899520</td>\n",
       "      <td>-0.543765</td>\n",
       "      <td>-0.855775</td>\n",
       "      <td>-1.264439</td>\n",
       "      <td>-1.075186</td>\n",
       "      <td>-1.081452</td>\n",
       "      <td>...</td>\n",
       "      <td>-1.445258</td>\n",
       "      <td>-0.896892</td>\n",
       "      <td>-0.243511</td>\n",
       "      <td>-2.086209</td>\n",
       "      <td>0.252582</td>\n",
       "      <td>1.25697</td>\n",
       "      <td>-0.729131</td>\n",
       "      <td>1.755352</td>\n",
       "      <td>0.320483</td>\n",
       "      <td>-1.616516</td>\n",
       "    </tr>\n",
       "  </tbody>\n",
       "</table>\n",
       "<p>5 rows × 28 columns</p>\n",
       "</div>"
      ],
      "text/plain": [
       "       Time      Race    Gender  Body_Size  With_Kids  Kids_Category  \\\n",
       "0  1.186818  1.281672  1.015622   0.007998   1.111704       1.509148   \n",
       "1  1.186818 -1.356417  1.015622   1.238486  -0.899520      -0.543765   \n",
       "2  1.186818  1.281672 -0.984618   0.007998  -0.899520      -0.543765   \n",
       "3  1.330305  0.402309  1.015622   1.238486  -0.899520      -0.543765   \n",
       "4  1.330305  0.402309  1.015622   0.007998  -0.899520      -0.543765   \n",
       "\n",
       "   Basket_Size  Basket_colour    Attire  Shirt_Colour  ...  TimeSpent_minutes  \\\n",
       "0    -0.855775       0.877381 -1.075186     -1.081452  ...          -1.095669   \n",
       "1    -0.855775      -0.652490 -1.075186      1.265385  ...          -1.165587   \n",
       "2    -0.855775      -1.264439 -1.075186      0.972030  ...          -1.235504   \n",
       "3    -0.855775      -1.570413 -1.075186     -1.374806  ...          -1.585093   \n",
       "4    -0.855775      -1.264439 -1.075186     -1.081452  ...          -1.445258   \n",
       "\n",
       "   buyDrinks  TotalSpent_RM  latitude  longitude  Num_of_Baskets   tempmax  \\\n",
       "0  -0.306655      -1.175289 -1.974354   0.219731        -1.24844 -0.729131   \n",
       "1   0.873818       1.620044 -1.844641   0.072282         1.25697 -0.729131   \n",
       "2  -0.306655      -0.243511 -1.678802   1.008022        -1.24844 -0.729131   \n",
       "3  -0.306655       0.455322 -1.495611   0.011978        -1.24844 -0.729131   \n",
       "4  -0.896892      -0.243511 -2.086209   0.252582         1.25697 -0.729131   \n",
       "\n",
       "    tempmin  humidity  description  \n",
       "0  1.755352  0.320483    -1.616516  \n",
       "1  1.755352  0.320483    -1.616516  \n",
       "2  1.755352  0.320483    -1.616516  \n",
       "3  1.755352  0.320483    -1.616516  \n",
       "4  1.755352  0.320483    -1.616516  \n",
       "\n",
       "[5 rows x 28 columns]"
      ]
     },
     "execution_count": 83,
     "metadata": {},
     "output_type": "execute_result"
    }
   ],
   "source": [
    "X_under, y_under = undersample.fit_resample(X, y)\n",
    "X_under.head()"
   ]
  },
  {
   "cell_type": "code",
   "execution_count": 85,
   "id": "5f61eeab",
   "metadata": {},
   "outputs": [
    {
     "data": {
      "image/png": "[encoded data removed]",
      "text/plain": [
       "<Figure size 640x480 with 1 Axes>"
      ]
     },
     "metadata": {},
     "output_type": "display_data"
    }
   ],
   "source": [
    "neighbors = np.arange(1, 30)\n",
    "train_accuracy = np.empty(len(neighbors))\n",
    "test_accuracy = np.empty(len(neighbors))\n",
    "\n",
    "# Loop over different values of k\n",
    "for i, k in enumerate(neighbors):\n",
    "    # Setup a k-NN Classifier with k neighbors: knn\n",
    "    knn = KNeighborsClassifier(n_neighbors=k)\n",
    "\n",
    "    # Fit the classifier to the training data\n",
    "    cv_scores = cross_val_score(knn, X_under, y_under, cv=5)\n",
    "    \n",
    "    #Compute accuracy on the training set\n",
    "    train_accuracy[i] = np.mean(cv_scores)\n",
    "\n",
    "    #Compute accuracy on the testing set\n",
    "    #test_accuracy[i] = knn.score(X_test, y_test)\n",
    "\n",
    "# Generate plot\n",
    "plt.title('k-NN: Varying Number of Neighbors')\n",
    "#plt.plot(neighbors, test_accuracy, label = 'Testing Accuracy')\n",
    "plt.plot(neighbors, train_accuracy, label = 'Training Accuracy')\n",
    "plt.legend()\n",
    "plt.xlabel('Number of Neighbors')\n",
    "plt.ylabel('Accuracy')\n",
    "plt.show()"
   ]
  },
  {
   "cell_type": "code",
   "execution_count": 87,
   "id": "a37e3186",
   "metadata": {},
   "outputs": [
    {
     "data": {
      "text/html": [
       "<style>#sk-container-id-9 {color: black;background-color: white;}#sk-container-id-9 pre{padding: 0;}#sk-container-id-9 div.sk-toggleable {background-color: white;}#sk-container-id-9 label.sk-toggleable__label {cursor: pointer;display: block;width: 100%;margin-bottom: 0;padding: 0.3em;box-sizing: border-box;text-align: center;}#sk-container-id-9 label.sk-toggleable__label-arrow:before {content: \"▸\";float: left;margin-right: 0.25em;color: #696969;}#sk-container-id-9 label.sk-toggleable__label-arrow:hover:before {color: black;}#sk-container-id-9 div.sk-estimator:hover label.sk-toggleable__label-arrow:before {color: black;}#sk-container-id-9 div.sk-toggleable__content {max-height: 0;max-width: 0;overflow: hidden;text-align: left;background-color: #f0f8ff;}#sk-container-id-9 div.sk-toggleable__content pre {margin: 0.2em;color: black;border-radius: 0.25em;background-color: #f0f8ff;}#sk-container-id-9 input.sk-toggleable__control:checked~div.sk-toggleable__content {max-height: 200px;max-width: 100%;overflow: auto;}#sk-container-id-9 input.sk-toggleable__control:checked~label.sk-toggleable__label-arrow:before {content: \"▾\";}#sk-container-id-9 div.sk-estimator input.sk-toggleable__control:checked~label.sk-toggleable__label {background-color: #d4ebff;}#sk-container-id-9 div.sk-label input.sk-toggleable__control:checked~label.sk-toggleable__label {background-color: #d4ebff;}#sk-container-id-9 input.sk-hidden--visually {border: 0;clip: rect(1px 1px 1px 1px);clip: rect(1px, 1px, 1px, 1px);height: 1px;margin: -1px;overflow: hidden;padding: 0;position: absolute;width: 1px;}#sk-container-id-9 div.sk-estimator {font-family: monospace;background-color: #f0f8ff;border: 1px dotted black;border-radius: 0.25em;box-sizing: border-box;margin-bottom: 0.5em;}#sk-container-id-9 div.sk-estimator:hover {background-color: #d4ebff;}#sk-container-id-9 div.sk-parallel-item::after {content: \"\";width: 100%;border-bottom: 1px solid gray;flex-grow: 1;}#sk-container-id-9 div.sk-label:hover label.sk-toggleable__label {background-color: #d4ebff;}#sk-container-id-9 div.sk-serial::before {content: \"\";position: absolute;border-left: 1px solid gray;box-sizing: border-box;top: 0;bottom: 0;left: 50%;z-index: 0;}#sk-container-id-9 div.sk-serial {display: flex;flex-direction: column;align-items: center;background-color: white;padding-right: 0.2em;padding-left: 0.2em;position: relative;}#sk-container-id-9 div.sk-item {position: relative;z-index: 1;}#sk-container-id-9 div.sk-parallel {display: flex;align-items: stretch;justify-content: center;background-color: white;position: relative;}#sk-container-id-9 div.sk-item::before, #sk-container-id-9 div.sk-parallel-item::before {content: \"\";position: absolute;border-left: 1px solid gray;box-sizing: border-box;top: 0;bottom: 0;left: 50%;z-index: -1;}#sk-container-id-9 div.sk-parallel-item {display: flex;flex-direction: column;z-index: 1;position: relative;background-color: white;}#sk-container-id-9 div.sk-parallel-item:first-child::after {align-self: flex-end;width: 50%;}#sk-container-id-9 div.sk-parallel-item:last-child::after {align-self: flex-start;width: 50%;}#sk-container-id-9 div.sk-parallel-item:only-child::after {width: 0;}#sk-container-id-9 div.sk-dashed-wrapped {border: 1px dashed gray;margin: 0 0.4em 0.5em 0.4em;box-sizing: border-box;padding-bottom: 0.4em;background-color: white;}#sk-container-id-9 div.sk-label label {font-family: monospace;font-weight: bold;display: inline-block;line-height: 1.2em;}#sk-container-id-9 div.sk-label-container {text-align: center;}#sk-container-id-9 div.sk-container {/* jupyter's `normalize.less` sets `[hidden] { display: none; }` but bootstrap.min.css set `[hidden] { display: none !important; }` so we also need the `!important` here to be able to override the default hidden behavior on the sphinx rendered scikit-learn.org. See: https://github.com/scikit-learn/scikit-learn/issues/21755 */display: inline-block !important;position: relative;}#sk-container-id-9 div.sk-text-repr-fallback {display: none;}</style><div id=\"sk-container-id-9\" class=\"sk-top-container\"><div class=\"sk-text-repr-fallback\"><pre>GridSearchCV(cv=5, estimator=KNeighborsClassifier(n_neighbors=29),\n",
       "             param_grid={&#x27;n_neighbors&#x27;: array([ 1,  2,  3,  4,  5,  6,  7,  8,  9, 10, 11, 12, 13, 14, 15, 16, 17,\n",
       "       18, 19, 20, 21, 22, 23, 24, 25, 26, 27, 28, 29, 30, 31, 32, 33, 34,\n",
       "       35, 36, 37, 38, 39])})</pre><b>In a Jupyter environment, please rerun this cell to show the HTML representation or trust the notebook. <br />On GitHub, the HTML representation is unable to render, please try loading this page with nbviewer.org.</b></div><div class=\"sk-container\" hidden><div class=\"sk-item sk-dashed-wrapped\"><div class=\"sk-label-container\"><div class=\"sk-label sk-toggleable\"><input class=\"sk-toggleable__control sk-hidden--visually\" id=\"sk-estimator-id-17\" type=\"checkbox\" ><label for=\"sk-estimator-id-17\" class=\"sk-toggleable__label sk-toggleable__label-arrow\">GridSearchCV</label><div class=\"sk-toggleable__content\"><pre>GridSearchCV(cv=5, estimator=KNeighborsClassifier(n_neighbors=29),\n",
       "             param_grid={&#x27;n_neighbors&#x27;: array([ 1,  2,  3,  4,  5,  6,  7,  8,  9, 10, 11, 12, 13, 14, 15, 16, 17,\n",
       "       18, 19, 20, 21, 22, 23, 24, 25, 26, 27, 28, 29, 30, 31, 32, 33, 34,\n",
       "       35, 36, 37, 38, 39])})</pre></div></div></div><div class=\"sk-parallel\"><div class=\"sk-parallel-item\"><div class=\"sk-item\"><div class=\"sk-label-container\"><div class=\"sk-label sk-toggleable\"><input class=\"sk-toggleable__control sk-hidden--visually\" id=\"sk-estimator-id-18\" type=\"checkbox\" ><label for=\"sk-estimator-id-18\" class=\"sk-toggleable__label sk-toggleable__label-arrow\">estimator: KNeighborsClassifier</label><div class=\"sk-toggleable__content\"><pre>KNeighborsClassifier(n_neighbors=29)</pre></div></div></div><div class=\"sk-serial\"><div class=\"sk-item\"><div class=\"sk-estimator sk-toggleable\"><input class=\"sk-toggleable__control sk-hidden--visually\" id=\"sk-estimator-id-19\" type=\"checkbox\" ><label for=\"sk-estimator-id-19\" class=\"sk-toggleable__label sk-toggleable__label-arrow\">KNeighborsClassifier</label><div class=\"sk-toggleable__content\"><pre>KNeighborsClassifier(n_neighbors=29)</pre></div></div></div></div></div></div></div></div></div></div>"
      ],
      "text/plain": [
       "GridSearchCV(cv=5, estimator=KNeighborsClassifier(n_neighbors=29),\n",
       "             param_grid={'n_neighbors': array([ 1,  2,  3,  4,  5,  6,  7,  8,  9, 10, 11, 12, 13, 14, 15, 16, 17,\n",
       "       18, 19, 20, 21, 22, 23, 24, 25, 26, 27, 28, 29, 30, 31, 32, 33, 34,\n",
       "       35, 36, 37, 38, 39])})"
      ]
     },
     "execution_count": 87,
     "metadata": {},
     "output_type": "execute_result"
    }
   ],
   "source": [
    "#create a dictionary of all values we want to test for n_neighbors\n",
    "param_grid = {'n_neighbors': np.arange(1, 40)}\n",
    "#use gridsearch to test all values for n_neighbors\n",
    "knn_gscv = GridSearchCV(knn, param_grid, cv=5)\n",
    "#fit model to data\n",
    "knn_gscv.fit(X_under, y_under)"
   ]
  },
  {
   "cell_type": "code",
   "execution_count": 88,
   "id": "113c0673",
   "metadata": {},
   "outputs": [
    {
     "data": {
      "text/plain": [
       "{'n_neighbors': 31}"
      ]
     },
     "execution_count": 88,
     "metadata": {},
     "output_type": "execute_result"
    }
   ],
   "source": [
    "knn_gscv.best_params_"
   ]
  },
  {
   "cell_type": "code",
   "execution_count": 89,
   "id": "0e5b5373",
   "metadata": {},
   "outputs": [
    {
     "data": {
      "text/plain": [
       "0.9390319403405094"
      ]
     },
     "execution_count": 89,
     "metadata": {},
     "output_type": "execute_result"
    }
   ],
   "source": [
    "knn_gscv.best_score_"
   ]
  },
  {
   "cell_type": "code",
   "execution_count": null,
   "id": "8c331279",
   "metadata": {},
   "outputs": [],
   "source": []
  }
 ],
 "metadata": {
  "kernelspec": {
   "display_name": "Python 3 (ipykernel)",
   "language": "python",
   "name": "python3"
  },
  "language_info": {
   "codemirror_mode": {
    "name": "ipython",
    "version": 3
   },
   "file_extension": ".py",
   "mimetype": "text/x-python",
   "name": "python",
   "nbconvert_exporter": "python",
   "pygments_lexer": "ipython3",
   "version": "3.10.9"
  }
 },
 "nbformat": 4,
 "nbformat_minor": 5
}
