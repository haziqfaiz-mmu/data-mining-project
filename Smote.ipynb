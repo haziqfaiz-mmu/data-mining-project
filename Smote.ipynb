{
 "cells": [
  {
   "cell_type": "code",
   "execution_count": 22,
   "id": "903647ec",
   "metadata": {},
   "outputs": [
    {
     "data": {
      "text/plain": [
       "'0.10.1'"
      ]
     },
     "execution_count": 22,
     "metadata": {},
     "output_type": "execute_result"
    }
   ],
   "source": [
    "import pandas as pd\n",
    "import numpy as np\n",
    "import imblearn\n",
    "from collections import Counter\n",
    "imblearn.__version__"
   ]
  },
  {
   "cell_type": "code",
   "execution_count": 5,
   "id": "de04e646",
   "metadata": {},
   "outputs": [
    {
     "data": {
      "text/html": [
       "<div>\n",
       "<style scoped>\n",
       "    .dataframe tbody tr th:only-of-type {\n",
       "        vertical-align: middle;\n",
       "    }\n",
       "\n",
       "    .dataframe tbody tr th {\n",
       "        vertical-align: top;\n",
       "    }\n",
       "\n",
       "    .dataframe thead th {\n",
       "        text-align: right;\n",
       "    }\n",
       "</style>\n",
       "<table border=\"1\" class=\"dataframe\">\n",
       "  <thead>\n",
       "    <tr style=\"text-align: right;\">\n",
       "      <th></th>\n",
       "      <th>Time</th>\n",
       "      <th>Race</th>\n",
       "      <th>Gender</th>\n",
       "      <th>Body_Size</th>\n",
       "      <th>With_Kids</th>\n",
       "      <th>Kids_Category</th>\n",
       "      <th>Basket_Size</th>\n",
       "      <th>Basket_colour</th>\n",
       "      <th>Attire</th>\n",
       "      <th>Shirt_Colour</th>\n",
       "      <th>...</th>\n",
       "      <th>TotalSpent_RM</th>\n",
       "      <th>latitude</th>\n",
       "      <th>longitude</th>\n",
       "      <th>Num_of_Baskets</th>\n",
       "      <th>Date</th>\n",
       "      <th>tempmax</th>\n",
       "      <th>tempmin</th>\n",
       "      <th>humidity</th>\n",
       "      <th>description</th>\n",
       "      <th>icon</th>\n",
       "    </tr>\n",
       "  </thead>\n",
       "  <tbody>\n",
       "    <tr>\n",
       "      <th>0</th>\n",
       "      <td>20:17:50</td>\n",
       "      <td>malay</td>\n",
       "      <td>male</td>\n",
       "      <td>moderate</td>\n",
       "      <td>yes</td>\n",
       "      <td>young</td>\n",
       "      <td>big</td>\n",
       "      <td>red</td>\n",
       "      <td>casual</td>\n",
       "      <td>blue</td>\n",
       "      <td>...</td>\n",
       "      <td>-1.175289</td>\n",
       "      <td>-1.974354</td>\n",
       "      <td>0.219731</td>\n",
       "      <td>-1.24844</td>\n",
       "      <td>2015-10-19</td>\n",
       "      <td>-0.804993</td>\n",
       "      <td>0.954235</td>\n",
       "      <td>0.51219</td>\n",
       "      <td>Cloudy skies throughout the day.</td>\n",
       "      <td>cloudy</td>\n",
       "    </tr>\n",
       "    <tr>\n",
       "      <th>1</th>\n",
       "      <td>20:28:42</td>\n",
       "      <td>malay</td>\n",
       "      <td>male</td>\n",
       "      <td>thin</td>\n",
       "      <td>no</td>\n",
       "      <td>no_kids</td>\n",
       "      <td>big</td>\n",
       "      <td>white</td>\n",
       "      <td>casual</td>\n",
       "      <td>white</td>\n",
       "      <td>...</td>\n",
       "      <td>1.620044</td>\n",
       "      <td>-1.844641</td>\n",
       "      <td>0.072282</td>\n",
       "      <td>1.25697</td>\n",
       "      <td>2015-10-19</td>\n",
       "      <td>-0.804993</td>\n",
       "      <td>0.954235</td>\n",
       "      <td>0.51219</td>\n",
       "      <td>Cloudy skies throughout the day.</td>\n",
       "      <td>cloudy</td>\n",
       "    </tr>\n",
       "    <tr>\n",
       "      <th>2</th>\n",
       "      <td>20:58:31</td>\n",
       "      <td>malay</td>\n",
       "      <td>female</td>\n",
       "      <td>moderate</td>\n",
       "      <td>no</td>\n",
       "      <td>no_kids</td>\n",
       "      <td>big</td>\n",
       "      <td>blue</td>\n",
       "      <td>casual</td>\n",
       "      <td>red</td>\n",
       "      <td>...</td>\n",
       "      <td>-0.243511</td>\n",
       "      <td>-1.678802</td>\n",
       "      <td>1.008022</td>\n",
       "      <td>-1.24844</td>\n",
       "      <td>2015-10-19</td>\n",
       "      <td>-0.804993</td>\n",
       "      <td>0.954235</td>\n",
       "      <td>0.51219</td>\n",
       "      <td>Cloudy skies throughout the day.</td>\n",
       "      <td>cloudy</td>\n",
       "    </tr>\n",
       "    <tr>\n",
       "      <th>3</th>\n",
       "      <td>21:31:28</td>\n",
       "      <td>indian</td>\n",
       "      <td>male</td>\n",
       "      <td>thin</td>\n",
       "      <td>no</td>\n",
       "      <td>no_kids</td>\n",
       "      <td>big</td>\n",
       "      <td>black</td>\n",
       "      <td>casual</td>\n",
       "      <td>black</td>\n",
       "      <td>...</td>\n",
       "      <td>0.455322</td>\n",
       "      <td>-1.495611</td>\n",
       "      <td>0.011978</td>\n",
       "      <td>-1.24844</td>\n",
       "      <td>2015-10-19</td>\n",
       "      <td>-0.804993</td>\n",
       "      <td>0.954235</td>\n",
       "      <td>0.51219</td>\n",
       "      <td>Cloudy skies throughout the day.</td>\n",
       "      <td>cloudy</td>\n",
       "    </tr>\n",
       "    <tr>\n",
       "      <th>4</th>\n",
       "      <td>21:40:28</td>\n",
       "      <td>indian</td>\n",
       "      <td>male</td>\n",
       "      <td>moderate</td>\n",
       "      <td>no</td>\n",
       "      <td>no_kids</td>\n",
       "      <td>big</td>\n",
       "      <td>blue</td>\n",
       "      <td>casual</td>\n",
       "      <td>blue</td>\n",
       "      <td>...</td>\n",
       "      <td>-0.243511</td>\n",
       "      <td>-2.086209</td>\n",
       "      <td>0.252582</td>\n",
       "      <td>1.25697</td>\n",
       "      <td>2015-10-19</td>\n",
       "      <td>-0.804993</td>\n",
       "      <td>0.954235</td>\n",
       "      <td>0.51219</td>\n",
       "      <td>Cloudy skies throughout the day.</td>\n",
       "      <td>cloudy</td>\n",
       "    </tr>\n",
       "  </tbody>\n",
       "</table>\n",
       "<p>5 rows × 30 columns</p>\n",
       "</div>"
      ],
      "text/plain": [
       "       Time    Race  Gender Body_Size With_Kids Kids_Category Basket_Size  \\\n",
       "0  20:17:50   malay    male  moderate       yes         young         big   \n",
       "1  20:28:42   malay    male      thin        no       no_kids         big   \n",
       "2  20:58:31   malay  female  moderate        no       no_kids         big   \n",
       "3  21:31:28  indian    male      thin        no       no_kids         big   \n",
       "4  21:40:28  indian    male  moderate        no       no_kids         big   \n",
       "\n",
       "  Basket_colour  Attire Shirt_Colour  ... TotalSpent_RM  latitude longitude  \\\n",
       "0           red  casual         blue  ...     -1.175289 -1.974354  0.219731   \n",
       "1         white  casual        white  ...      1.620044 -1.844641  0.072282   \n",
       "2          blue  casual          red  ...     -0.243511 -1.678802  1.008022   \n",
       "3         black  casual        black  ...      0.455322 -1.495611  0.011978   \n",
       "4          blue  casual         blue  ...     -0.243511 -2.086209  0.252582   \n",
       "\n",
       "  Num_of_Baskets        Date   tempmax   tempmin  humidity  \\\n",
       "0       -1.24844  2015-10-19 -0.804993  0.954235   0.51219   \n",
       "1        1.25697  2015-10-19 -0.804993  0.954235   0.51219   \n",
       "2       -1.24844  2015-10-19 -0.804993  0.954235   0.51219   \n",
       "3       -1.24844  2015-10-19 -0.804993  0.954235   0.51219   \n",
       "4        1.25697  2015-10-19 -0.804993  0.954235   0.51219   \n",
       "\n",
       "                        description    icon  \n",
       "0  Cloudy skies throughout the day.  cloudy  \n",
       "1  Cloudy skies throughout the day.  cloudy  \n",
       "2  Cloudy skies throughout the day.  cloudy  \n",
       "3  Cloudy skies throughout the day.  cloudy  \n",
       "4  Cloudy skies throughout the day.  cloudy  \n",
       "\n",
       "[5 rows x 30 columns]"
      ]
     },
     "execution_count": 5,
     "metadata": {},
     "output_type": "execute_result"
    }
   ],
   "source": [
    "df = pd.read_csv(\"merged-normalized.csv\")\n",
    "df.head()"
   ]
  },
  {
   "cell_type": "code",
   "execution_count": 23,
   "id": "859234e8",
   "metadata": {},
   "outputs": [
    {
     "data": {
      "text/plain": [
       "Counter({'malay': 1222, 'indian': 981, 'chinese': 966, 'foreigner': 831})"
      ]
     },
     "execution_count": 23,
     "metadata": {},
     "output_type": "execute_result"
    }
   ],
   "source": [
    "Counter(df.Race)"
   ]
  },
  {
   "cell_type": "code",
   "execution_count": 36,
   "id": "4c013086",
   "metadata": {},
   "outputs": [],
   "source": [
    "for col in df:\n",
    "    if df[col].dtype == \"object\" and df[col].dtype != \"Date\":\n",
    "        Counter(df[col])"
   ]
  },
  {
   "cell_type": "code",
   "execution_count": 34,
   "id": "bf13e97c",
   "metadata": {},
   "outputs": [
    {
     "data": {
      "text/plain": [
       "dtype('O')"
      ]
     },
     "execution_count": 34,
     "metadata": {},
     "output_type": "execute_result"
    }
   ],
   "source": []
  },
  {
   "cell_type": "code",
   "execution_count": null,
   "id": "67d324a8",
   "metadata": {},
   "outputs": [],
   "source": []
  }
 ],
 "metadata": {
  "kernelspec": {
   "display_name": "Python 3 (ipykernel)",
   "language": "python",
   "name": "python3"
  },
  "language_info": {
   "codemirror_mode": {
    "name": "ipython",
    "version": 3
   },
   "file_extension": ".py",
   "mimetype": "text/x-python",
   "name": "python",
   "nbconvert_exporter": "python",
   "pygments_lexer": "ipython3",
   "version": "3.10.9"
  }
 },
 "nbformat": 4,
 "nbformat_minor": 5
}
